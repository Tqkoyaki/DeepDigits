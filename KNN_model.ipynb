{
 "cells": [
  {
   "cell_type": "code",
   "execution_count": 28,
   "metadata": {},
   "outputs": [],
   "source": [
    "#import basics and data\n",
    "import numpy as np\n",
    "import pandas as pd\n",
    "import matplotlib.pyplot as plt\n",
    "import seaborn as sns\n",
    "#import calsification metrics\n",
    "from sklearn.metrics import classification_report, confusion_matrix, accuracy_score\n",
    "from sklearn.model_selection import train_test_split\n",
    "import matplotlib.pyplot as plt\n",
    "from sklearn.neighbors import KNeighborsClassifier\n"
   ]
  },
  {
   "cell_type": "code",
   "execution_count": 29,
   "metadata": {},
   "outputs": [],
   "source": [
    "data = pd.read_csv('data/train.csv')"
   ]
  },
  {
   "cell_type": "code",
   "execution_count": 30,
   "metadata": {},
   "outputs": [],
   "source": [
    "#split data into 30% test and 70% train, random_state = 123, stratify = 'label', xtrain, xtest, ytrain, ytest\n",
    "\n",
    "train, test = train_test_split(data, test_size=0.3, random_state=123, stratify=data['label'])\n",
    "\n",
    "\n",
    "# train = train.sample(frac=0.05, replace=True, random_state=123, )\n",
    "# test = test.sample(frac=0.1, replace=True, random_state=123, )"
   ]
  },
  {
   "cell_type": "code",
   "execution_count": 31,
   "metadata": {},
   "outputs": [],
   "source": [
    "#import matplotlib.pyplot as plt\n",
    "\n",
    "#model 1 - KNN model\n",
    "training_acc = []\n",
    "test_acc = []"
   ]
  },
  {
   "cell_type": "code",
   "execution_count": 32,
   "metadata": {},
   "outputs": [],
   "source": [
    "## 1. KNN model\n",
    "\n",
    "resultDict = {}\n",
    "\n",
    "kRange = 20\n",
    "def knn_model(xAll_train, xAll_test, yAll_train, yAll_test):\n",
    "    #different knn parameters\n",
    "    for k in range(kRange):\n",
    "        model_KNN = KNeighborsClassifier(n_neighbors=k+1)\n",
    "        model_KNN.fit(xAll_train, yAll_train)\n",
    "        model_KNN.predict(xAll_train)\n",
    "        train_score = model_KNN.score(xAll_train, yAll_train)\n",
    "        #doesnt make sense to fit on test \n",
    "        #model.fit(xAll_test, yAll_test)\n",
    "        model_KNN.predict(xAll_test)\n",
    "        test_score = model_KNN.score(xAll_test, yAll_test)\n",
    "\n",
    "        training_acc.append(train_score)\n",
    "        test_acc.append(test_score)\n",
    "\n",
    "        #store classification report and confusion matrix in a dictionary\n",
    "        resultDict['KNN_model_' + str(k+1)] = [classification_report(yAll_test, model_KNN.predict(xAll_test)), confusion_matrix(yAll_test, model_KNN.predict(xAll_test))]\n",
    "\n",
    "    plt.plot(range(1, kRange+1), training_acc,  color=\"blue\", label=\"Training Accuracy\")\n",
    "    plt.plot(range(1, kRange+1), test_acc, color=\"red\", label=\"Test Accuracy\")"
   ]
  },
  {
   "cell_type": "code",
   "execution_count": 33,
   "metadata": {},
   "outputs": [],
   "source": [
    "x_train = train.drop(\"label\", axis = 1)\n",
    "x_test = test.drop(\"label\", axis = 1)\n",
    "# y is label column only\n",
    "y_train = train[\"label\"]\n",
    "y_test = test[\"label\"]"
   ]
  },
  {
   "cell_type": "code",
   "execution_count": 34,
   "metadata": {},
   "outputs": [
    {
     "data": {
      "image/png": "[encoded data removed]",
      "text/plain": [
       "<Figure size 640x480 with 1 Axes>"
      ]
     },
     "metadata": {},
     "output_type": "display_data"
    }
   ],
   "source": [
    "#call funtion\n",
    "knn_model(x_train, x_test, y_train, y_test)"
   ]
  },
  {
   "cell_type": "code",
   "execution_count": 35,
   "metadata": {},
   "outputs": [
    {
     "name": "stdout",
     "output_type": "stream",
     "text": [
      "The highest accuracy is:  0.8984126984126984\n",
      "The index of the highest accuracy is: k=  3\n"
     ]
    }
   ],
   "source": [
    "# print the element with the highest accuracy\n",
    "print(\"The highest accuracy is: \", max(test_acc))\n",
    "# test_acc\n",
    "\n",
    "#get index of highest accuracy\n",
    "index = test_acc.index(max(test_acc)) +1 \n",
    "print(\"The index of the highest accuracy is: k= \", index)"
   ]
  },
  {
   "cell_type": "code",
   "execution_count": 36,
   "metadata": {},
   "outputs": [
    {
     "data": {
      "text/plain": [
       "0.9394557823129251"
      ]
     },
     "execution_count": 36,
     "metadata": {},
     "output_type": "execute_result"
    }
   ],
   "source": [
    "#looking at the accuracy scores above, it seems like the best k is X\n",
    "knearest = KNeighborsClassifier(n_neighbors=index)\n",
    "knearest.fit(x_train, y_train)\n",
    "#score on training data\n",
    "knearest.score(x_train, y_train)"
   ]
  },
  {
   "cell_type": "code",
   "execution_count": 37,
   "metadata": {},
   "outputs": [
    {
     "data": {
      "text/plain": [
       "0.8984126984126984"
      ]
     },
     "execution_count": 37,
     "metadata": {},
     "output_type": "execute_result"
    }
   ],
   "source": [
    "#score on test data\n",
    "knearest.score(x_test, y_test)"
   ]
  },
  {
   "cell_type": "code",
   "execution_count": 38,
   "metadata": {},
   "outputs": [
    {
     "name": "stdout",
     "output_type": "stream",
     "text": [
      "              precision    recall  f1-score   support\n",
      "\n",
      "           0       0.90      0.96      0.93       118\n",
      "           1       0.84      0.98      0.91       129\n",
      "           2       0.95      0.88      0.91       139\n",
      "           3       0.85      0.93      0.89       125\n",
      "           4       0.84      0.93      0.88       122\n",
      "           5       0.91      0.83      0.87       126\n",
      "           6       0.92      0.95      0.94       102\n",
      "           7       0.97      0.93      0.95       153\n",
      "           8       0.96      0.77      0.85       133\n",
      "           9       0.86      0.84      0.85       113\n",
      "\n",
      "    accuracy                           0.90      1260\n",
      "   macro avg       0.90      0.90      0.90      1260\n",
      "weighted avg       0.90      0.90      0.90      1260\n",
      "\n",
      "0.8984126984126984\n"
     ]
    }
   ],
   "source": [
    "\n",
    "#Check precision, recall, f1-score\n",
    "y_pred = knearest.predict(x_test)\n",
    "print( classification_report(y_test, y_pred) )\n",
    "\n",
    "print( accuracy_score(y_test, y_pred))"
   ]
  }
 ],
 "metadata": {
  "kernelspec": {
   "display_name": "Python 3.8.15 ('base')",
   "language": "python",
   "name": "python3"
  },
  "language_info": {
   "codemirror_mode": {
    "name": "ipython",
    "version": 3
   },
   "file_extension": ".py",
   "mimetype": "text/x-python",
   "name": "python",
   "nbconvert_exporter": "python",
   "pygments_lexer": "ipython3",
   "version": "3.8.15"
  },
  "orig_nbformat": 4,
  "vscode": {
   "interpreter": {
    "hash": "40d3a090f54c6569ab1632332b64b2c03c39dcf918b08424e98f38b5ae0af88f"
   }
  }
 },
 "nbformat": 4,
 "nbformat_minor": 2
}
