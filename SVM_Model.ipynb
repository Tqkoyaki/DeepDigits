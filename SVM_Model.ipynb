{
 "cells": [
  {
   "cell_type": "code",
   "execution_count": 57,
   "metadata": {},
   "outputs": [],
   "source": [
    "#import basis and data\n",
    "import numpy as np\n",
    "import pandas as pd\n",
    "import matplotlib.pyplot as plt\n",
    "import seaborn as sns\n",
    "# from sklearn import svm\n",
    "from sklearn.pipeline import make_pipeline\n",
    "from sklearn.preprocessing import StandardScaler\n",
    "from sklearn.svm import SVC\n",
    "from sklearn.model_selection import train_test_split\n",
    "from sklearn.metrics import accuracy_score\n",
    "from sklearn.metrics import classification_report\n",
    "\n",
    "from sklearn.pipeline import make_pipeline\n",
    "from sklearn.preprocessing import StandardScaler\n",
    "from sklearn.svm import SVC\n",
    "\n",
    "#use gridsearch to find the best parameters\n",
    "from sklearn.model_selection import GridSearchCV"
   ]
  },
  {
   "cell_type": "code",
   "execution_count": 58,
   "metadata": {},
   "outputs": [],
   "source": [
    "#import data\n",
    "#train_data = pd.read_csv('data/train.csv')\n",
    "#test_data = pd.read_csv('data/test.csv')\n",
    "\n",
    "data = pd.read_csv('data/train.csv')"
   ]
  },
  {
   "cell_type": "code",
   "execution_count": 59,
   "metadata": {},
   "outputs": [],
   "source": [
    "#split data into 30% test and 70% train, random_state = 123, stratify = 'label', xtrain, xtest, ytrain, ytest\n",
    "\n",
    "train, test = train_test_split(data, test_size=0.3, random_state=123, stratify=data['label'])"
   ]
  },
  {
   "cell_type": "code",
   "execution_count": 60,
   "metadata": {},
   "outputs": [],
   "source": [
    "#random stratified sample the data 10% for quicker run time\n",
    "## how can I stratify this?\n",
    "#train_data = train.sample(frac=0.1, replace=True, random_state=123, )\n",
    "#test_data = test.sample(frac=0.1, replace=True, random_state=123, )\n",
    "\n",
    "train_data = train\n",
    "test_data = test\n",
    "\n",
    "# train_data = train.sample(frac=0.01, replace=True, random_state=123, )\n",
    "# test_data = test.sample(frac=0.1, replace=True, random_state=123, )"
   ]
  },
  {
   "cell_type": "code",
   "execution_count": 61,
   "metadata": {},
   "outputs": [
    {
     "data": {
      "text/plain": [
       "0    34\n",
       "3    33\n",
       "8    33\n",
       "2    31\n",
       "5    30\n",
       "4    30\n",
       "6    29\n",
       "9    27\n",
       "1    26\n",
       "7    21\n",
       "Name: label, dtype: int64"
      ]
     },
     "execution_count": 61,
     "metadata": {},
     "output_type": "execute_result"
    }
   ],
   "source": [
    "#confirm stratification\n",
    "train_data['label'].value_counts()"
   ]
  },
  {
   "cell_type": "code",
   "execution_count": 62,
   "metadata": {},
   "outputs": [
    {
     "data": {
      "text/plain": [
       "7    153\n",
       "2    139\n",
       "8    133\n",
       "1    129\n",
       "5    126\n",
       "3    125\n",
       "4    122\n",
       "0    118\n",
       "9    113\n",
       "6    102\n",
       "Name: label, dtype: int64"
      ]
     },
     "execution_count": 62,
     "metadata": {},
     "output_type": "execute_result"
    }
   ],
   "source": [
    "#confirm stratification\n",
    "test_data['label'].value_counts()"
   ]
  },
  {
   "cell_type": "code",
   "execution_count": 63,
   "metadata": {},
   "outputs": [
    {
     "data": {
      "text/plain": [
       "<AxesSubplot: xlabel='label', ylabel='count'>"
      ]
     },
     "execution_count": 63,
     "metadata": {},
     "output_type": "execute_result"
    },
    {
     "data": {
      "image/png": "[encoded data removed]",
      "text/plain": [
       "<Figure size 640x480 with 1 Axes>"
      ]
     },
     "metadata": {},
     "output_type": "display_data"
    }
   ],
   "source": [
    "#graph confirm stratification\n",
    "sns.countplot(x='label', data=train_data)"
   ]
  },
  {
   "cell_type": "code",
   "execution_count": 64,
   "metadata": {},
   "outputs": [
    {
     "data": {
      "text/html": [
       "<div>\n",
       "<style scoped>\n",
       "    .dataframe tbody tr th:only-of-type {\n",
       "        vertical-align: middle;\n",
       "    }\n",
       "\n",
       "    .dataframe tbody tr th {\n",
       "        vertical-align: top;\n",
       "    }\n",
       "\n",
       "    .dataframe thead th {\n",
       "        text-align: right;\n",
       "    }\n",
       "</style>\n",
       "<table border=\"1\" class=\"dataframe\">\n",
       "  <thead>\n",
       "    <tr style=\"text-align: right;\">\n",
       "      <th></th>\n",
       "      <th>label</th>\n",
       "      <th>pixel0</th>\n",
       "      <th>pixel1</th>\n",
       "      <th>pixel2</th>\n",
       "      <th>pixel3</th>\n",
       "      <th>pixel4</th>\n",
       "      <th>pixel5</th>\n",
       "      <th>pixel6</th>\n",
       "      <th>pixel7</th>\n",
       "      <th>pixel8</th>\n",
       "      <th>...</th>\n",
       "      <th>pixel774</th>\n",
       "      <th>pixel775</th>\n",
       "      <th>pixel776</th>\n",
       "      <th>pixel777</th>\n",
       "      <th>pixel778</th>\n",
       "      <th>pixel779</th>\n",
       "      <th>pixel780</th>\n",
       "      <th>pixel781</th>\n",
       "      <th>pixel782</th>\n",
       "      <th>pixel783</th>\n",
       "    </tr>\n",
       "  </thead>\n",
       "  <tbody>\n",
       "    <tr>\n",
       "      <th>34950</th>\n",
       "      <td>5</td>\n",
       "      <td>0</td>\n",
       "      <td>0</td>\n",
       "      <td>0</td>\n",
       "      <td>0</td>\n",
       "      <td>0</td>\n",
       "      <td>0</td>\n",
       "      <td>0</td>\n",
       "      <td>0</td>\n",
       "      <td>0</td>\n",
       "      <td>...</td>\n",
       "      <td>0</td>\n",
       "      <td>0</td>\n",
       "      <td>0</td>\n",
       "      <td>0</td>\n",
       "      <td>0</td>\n",
       "      <td>0</td>\n",
       "      <td>0</td>\n",
       "      <td>0</td>\n",
       "      <td>0</td>\n",
       "      <td>0</td>\n",
       "    </tr>\n",
       "    <tr>\n",
       "      <th>41451</th>\n",
       "      <td>5</td>\n",
       "      <td>0</td>\n",
       "      <td>0</td>\n",
       "      <td>0</td>\n",
       "      <td>0</td>\n",
       "      <td>0</td>\n",
       "      <td>0</td>\n",
       "      <td>0</td>\n",
       "      <td>0</td>\n",
       "      <td>0</td>\n",
       "      <td>...</td>\n",
       "      <td>0</td>\n",
       "      <td>0</td>\n",
       "      <td>0</td>\n",
       "      <td>0</td>\n",
       "      <td>0</td>\n",
       "      <td>0</td>\n",
       "      <td>0</td>\n",
       "      <td>0</td>\n",
       "      <td>0</td>\n",
       "      <td>0</td>\n",
       "    </tr>\n",
       "    <tr>\n",
       "      <th>35924</th>\n",
       "      <td>3</td>\n",
       "      <td>0</td>\n",
       "      <td>0</td>\n",
       "      <td>0</td>\n",
       "      <td>0</td>\n",
       "      <td>0</td>\n",
       "      <td>0</td>\n",
       "      <td>0</td>\n",
       "      <td>0</td>\n",
       "      <td>0</td>\n",
       "      <td>...</td>\n",
       "      <td>0</td>\n",
       "      <td>0</td>\n",
       "      <td>0</td>\n",
       "      <td>0</td>\n",
       "      <td>0</td>\n",
       "      <td>0</td>\n",
       "      <td>0</td>\n",
       "      <td>0</td>\n",
       "      <td>0</td>\n",
       "      <td>0</td>\n",
       "    </tr>\n",
       "    <tr>\n",
       "      <th>25119</th>\n",
       "      <td>6</td>\n",
       "      <td>0</td>\n",
       "      <td>0</td>\n",
       "      <td>0</td>\n",
       "      <td>0</td>\n",
       "      <td>0</td>\n",
       "      <td>0</td>\n",
       "      <td>0</td>\n",
       "      <td>0</td>\n",
       "      <td>0</td>\n",
       "      <td>...</td>\n",
       "      <td>0</td>\n",
       "      <td>0</td>\n",
       "      <td>0</td>\n",
       "      <td>0</td>\n",
       "      <td>0</td>\n",
       "      <td>0</td>\n",
       "      <td>0</td>\n",
       "      <td>0</td>\n",
       "      <td>0</td>\n",
       "      <td>0</td>\n",
       "    </tr>\n",
       "    <tr>\n",
       "      <th>5444</th>\n",
       "      <td>6</td>\n",
       "      <td>0</td>\n",
       "      <td>0</td>\n",
       "      <td>0</td>\n",
       "      <td>0</td>\n",
       "      <td>0</td>\n",
       "      <td>0</td>\n",
       "      <td>0</td>\n",
       "      <td>0</td>\n",
       "      <td>0</td>\n",
       "      <td>...</td>\n",
       "      <td>0</td>\n",
       "      <td>0</td>\n",
       "      <td>0</td>\n",
       "      <td>0</td>\n",
       "      <td>0</td>\n",
       "      <td>0</td>\n",
       "      <td>0</td>\n",
       "      <td>0</td>\n",
       "      <td>0</td>\n",
       "      <td>0</td>\n",
       "    </tr>\n",
       "  </tbody>\n",
       "</table>\n",
       "<p>5 rows × 785 columns</p>\n",
       "</div>"
      ],
      "text/plain": [
       "       label  pixel0  pixel1  pixel2  pixel3  pixel4  pixel5  pixel6  pixel7  \\\n",
       "34950      5       0       0       0       0       0       0       0       0   \n",
       "41451      5       0       0       0       0       0       0       0       0   \n",
       "35924      3       0       0       0       0       0       0       0       0   \n",
       "25119      6       0       0       0       0       0       0       0       0   \n",
       "5444       6       0       0       0       0       0       0       0       0   \n",
       "\n",
       "       pixel8  ...  pixel774  pixel775  pixel776  pixel777  pixel778  \\\n",
       "34950       0  ...         0         0         0         0         0   \n",
       "41451       0  ...         0         0         0         0         0   \n",
       "35924       0  ...         0         0         0         0         0   \n",
       "25119       0  ...         0         0         0         0         0   \n",
       "5444        0  ...         0         0         0         0         0   \n",
       "\n",
       "       pixel779  pixel780  pixel781  pixel782  pixel783  \n",
       "34950         0         0         0         0         0  \n",
       "41451         0         0         0         0         0  \n",
       "35924         0         0         0         0         0  \n",
       "25119         0         0         0         0         0  \n",
       "5444          0         0         0         0         0  \n",
       "\n",
       "[5 rows x 785 columns]"
      ]
     },
     "execution_count": 64,
     "metadata": {},
     "output_type": "execute_result"
    }
   ],
   "source": [
    "train_data.head()"
   ]
  },
  {
   "cell_type": "code",
   "execution_count": 65,
   "metadata": {},
   "outputs": [
    {
     "data": {
      "text/html": [
       "<div>\n",
       "<style scoped>\n",
       "    .dataframe tbody tr th:only-of-type {\n",
       "        vertical-align: middle;\n",
       "    }\n",
       "\n",
       "    .dataframe tbody tr th {\n",
       "        vertical-align: top;\n",
       "    }\n",
       "\n",
       "    .dataframe thead th {\n",
       "        text-align: right;\n",
       "    }\n",
       "</style>\n",
       "<table border=\"1\" class=\"dataframe\">\n",
       "  <thead>\n",
       "    <tr style=\"text-align: right;\">\n",
       "      <th></th>\n",
       "      <th>label</th>\n",
       "      <th>pixel0</th>\n",
       "      <th>pixel1</th>\n",
       "      <th>pixel2</th>\n",
       "      <th>pixel3</th>\n",
       "      <th>pixel4</th>\n",
       "      <th>pixel5</th>\n",
       "      <th>pixel6</th>\n",
       "      <th>pixel7</th>\n",
       "      <th>pixel8</th>\n",
       "      <th>...</th>\n",
       "      <th>pixel774</th>\n",
       "      <th>pixel775</th>\n",
       "      <th>pixel776</th>\n",
       "      <th>pixel777</th>\n",
       "      <th>pixel778</th>\n",
       "      <th>pixel779</th>\n",
       "      <th>pixel780</th>\n",
       "      <th>pixel781</th>\n",
       "      <th>pixel782</th>\n",
       "      <th>pixel783</th>\n",
       "    </tr>\n",
       "  </thead>\n",
       "  <tbody>\n",
       "    <tr>\n",
       "      <th>26062</th>\n",
       "      <td>4</td>\n",
       "      <td>0</td>\n",
       "      <td>0</td>\n",
       "      <td>0</td>\n",
       "      <td>0</td>\n",
       "      <td>0</td>\n",
       "      <td>0</td>\n",
       "      <td>0</td>\n",
       "      <td>0</td>\n",
       "      <td>0</td>\n",
       "      <td>...</td>\n",
       "      <td>0</td>\n",
       "      <td>0</td>\n",
       "      <td>0</td>\n",
       "      <td>0</td>\n",
       "      <td>0</td>\n",
       "      <td>0</td>\n",
       "      <td>0</td>\n",
       "      <td>0</td>\n",
       "      <td>0</td>\n",
       "      <td>0</td>\n",
       "    </tr>\n",
       "    <tr>\n",
       "      <th>22093</th>\n",
       "      <td>3</td>\n",
       "      <td>0</td>\n",
       "      <td>0</td>\n",
       "      <td>0</td>\n",
       "      <td>0</td>\n",
       "      <td>0</td>\n",
       "      <td>0</td>\n",
       "      <td>0</td>\n",
       "      <td>0</td>\n",
       "      <td>0</td>\n",
       "      <td>...</td>\n",
       "      <td>0</td>\n",
       "      <td>0</td>\n",
       "      <td>0</td>\n",
       "      <td>0</td>\n",
       "      <td>0</td>\n",
       "      <td>0</td>\n",
       "      <td>0</td>\n",
       "      <td>0</td>\n",
       "      <td>0</td>\n",
       "      <td>0</td>\n",
       "    </tr>\n",
       "    <tr>\n",
       "      <th>34818</th>\n",
       "      <td>5</td>\n",
       "      <td>0</td>\n",
       "      <td>0</td>\n",
       "      <td>0</td>\n",
       "      <td>0</td>\n",
       "      <td>0</td>\n",
       "      <td>0</td>\n",
       "      <td>0</td>\n",
       "      <td>0</td>\n",
       "      <td>0</td>\n",
       "      <td>...</td>\n",
       "      <td>0</td>\n",
       "      <td>0</td>\n",
       "      <td>0</td>\n",
       "      <td>0</td>\n",
       "      <td>0</td>\n",
       "      <td>0</td>\n",
       "      <td>0</td>\n",
       "      <td>0</td>\n",
       "      <td>0</td>\n",
       "      <td>0</td>\n",
       "    </tr>\n",
       "    <tr>\n",
       "      <th>38536</th>\n",
       "      <td>5</td>\n",
       "      <td>0</td>\n",
       "      <td>0</td>\n",
       "      <td>0</td>\n",
       "      <td>0</td>\n",
       "      <td>0</td>\n",
       "      <td>0</td>\n",
       "      <td>0</td>\n",
       "      <td>0</td>\n",
       "      <td>0</td>\n",
       "      <td>...</td>\n",
       "      <td>0</td>\n",
       "      <td>0</td>\n",
       "      <td>0</td>\n",
       "      <td>0</td>\n",
       "      <td>0</td>\n",
       "      <td>0</td>\n",
       "      <td>0</td>\n",
       "      <td>0</td>\n",
       "      <td>0</td>\n",
       "      <td>0</td>\n",
       "    </tr>\n",
       "    <tr>\n",
       "      <th>15492</th>\n",
       "      <td>3</td>\n",
       "      <td>0</td>\n",
       "      <td>0</td>\n",
       "      <td>0</td>\n",
       "      <td>0</td>\n",
       "      <td>0</td>\n",
       "      <td>0</td>\n",
       "      <td>0</td>\n",
       "      <td>0</td>\n",
       "      <td>0</td>\n",
       "      <td>...</td>\n",
       "      <td>0</td>\n",
       "      <td>0</td>\n",
       "      <td>0</td>\n",
       "      <td>0</td>\n",
       "      <td>0</td>\n",
       "      <td>0</td>\n",
       "      <td>0</td>\n",
       "      <td>0</td>\n",
       "      <td>0</td>\n",
       "      <td>0</td>\n",
       "    </tr>\n",
       "  </tbody>\n",
       "</table>\n",
       "<p>5 rows × 785 columns</p>\n",
       "</div>"
      ],
      "text/plain": [
       "       label  pixel0  pixel1  pixel2  pixel3  pixel4  pixel5  pixel6  pixel7  \\\n",
       "26062      4       0       0       0       0       0       0       0       0   \n",
       "22093      3       0       0       0       0       0       0       0       0   \n",
       "34818      5       0       0       0       0       0       0       0       0   \n",
       "38536      5       0       0       0       0       0       0       0       0   \n",
       "15492      3       0       0       0       0       0       0       0       0   \n",
       "\n",
       "       pixel8  ...  pixel774  pixel775  pixel776  pixel777  pixel778  \\\n",
       "26062       0  ...         0         0         0         0         0   \n",
       "22093       0  ...         0         0         0         0         0   \n",
       "34818       0  ...         0         0         0         0         0   \n",
       "38536       0  ...         0         0         0         0         0   \n",
       "15492       0  ...         0         0         0         0         0   \n",
       "\n",
       "       pixel779  pixel780  pixel781  pixel782  pixel783  \n",
       "26062         0         0         0         0         0  \n",
       "22093         0         0         0         0         0  \n",
       "34818         0         0         0         0         0  \n",
       "38536         0         0         0         0         0  \n",
       "15492         0         0         0         0         0  \n",
       "\n",
       "[5 rows x 785 columns]"
      ]
     },
     "execution_count": 65,
     "metadata": {},
     "output_type": "execute_result"
    }
   ],
   "source": [
    "test_data.head()\n",
    "#test_data doesnt have a label column... why is that?"
   ]
  },
  {
   "cell_type": "code",
   "execution_count": 66,
   "metadata": {},
   "outputs": [],
   "source": [
    "# parameters for SVM model\n",
    "x_train = train_data.drop('label', axis=1)\n",
    "y_train = train_data['label']\n",
    "#drop the label column from the test data if exists\n",
    "x_test = test_data.drop('label', axis=1)\n",
    "y_test = test_data['label']"
   ]
  },
  {
   "cell_type": "code",
   "execution_count": 67,
   "metadata": {},
   "outputs": [
    {
     "data": {
      "text/plain": [
       "{'C': 1.0,\n",
       " 'break_ties': False,\n",
       " 'cache_size': 200,\n",
       " 'class_weight': None,\n",
       " 'coef0': 0.0,\n",
       " 'decision_function_shape': 'ovr',\n",
       " 'degree': 3,\n",
       " 'gamma': 'scale',\n",
       " 'kernel': 'rbf',\n",
       " 'max_iter': -1,\n",
       " 'probability': False,\n",
       " 'random_state': 123,\n",
       " 'shrinking': True,\n",
       " 'tol': 0.001,\n",
       " 'verbose': False}"
      ]
     },
     "execution_count": 67,
     "metadata": {},
     "output_type": "execute_result"
    }
   ],
   "source": [
    "model_svc = SVC(random_state=123)\n",
    "\n",
    "# what are default parameters?\n",
    "model_svc.get_params()"
   ]
  },
  {
   "cell_type": "code",
   "execution_count": 68,
   "metadata": {},
   "outputs": [
    {
     "data": {
      "text/plain": [
       "0.9829931972789115"
      ]
     },
     "execution_count": 68,
     "metadata": {},
     "output_type": "execute_result"
    }
   ],
   "source": [
    "#fit the model\n",
    "model_svc.fit(x_train, y_train)\n",
    "#score the model\n",
    "model_svc.score(x_train, y_train)"
   ]
  },
  {
   "cell_type": "code",
   "execution_count": 69,
   "metadata": {},
   "outputs": [
    {
     "name": "stdout",
     "output_type": "stream",
     "text": [
      "0.8714285714285714\n",
      "              precision    recall  f1-score   support\n",
      "\n",
      "           0       0.92      0.92      0.92       118\n",
      "           1       0.90      0.94      0.92       129\n",
      "           2       0.87      0.87      0.87       139\n",
      "           3       0.84      0.82      0.83       125\n",
      "           4       0.89      0.89      0.89       122\n",
      "           5       0.77      0.83      0.80       126\n",
      "           6       0.89      0.92      0.90       102\n",
      "           7       0.99      0.88      0.93       153\n",
      "           8       0.83      0.83      0.83       133\n",
      "           9       0.80      0.83      0.82       113\n",
      "\n",
      "    accuracy                           0.87      1260\n",
      "   macro avg       0.87      0.87      0.87      1260\n",
      "weighted avg       0.87      0.87      0.87      1260\n",
      "\n"
     ]
    }
   ],
   "source": [
    "# predict the test data\n",
    "y_pred = model_svc.predict(x_test)\n",
    "\n",
    "#accuracy score\n",
    "print(accuracy_score(y_test, y_pred))\n",
    "\n",
    "#classification report\n",
    "print(classification_report(y_test, y_pred))"
   ]
  },
  {
   "cell_type": "markdown",
   "metadata": {},
   "source": [
    "## Seems like the model with default parameters performed best. With an accuracy of 98%"
   ]
  },
  {
   "cell_type": "code",
   "execution_count": 70,
   "metadata": {},
   "outputs": [
    {
     "data": {
      "text/plain": [
       "<matplotlib.lines.Line2D at 0x7ff5627a6d60>"
      ]
     },
     "execution_count": 70,
     "metadata": {},
     "output_type": "execute_result"
    },
    {
     "data": {
      "image/png": "[encoded data removed]",
      "text/plain": [
       "<Figure size 640x480 with 1 Axes>"
      ]
     },
     "metadata": {},
     "output_type": "display_data"
    }
   ],
   "source": [
    "# for loop to create different svm models with different parameters store both the score and the model\n",
    "training_acc = []\n",
    "test_acc = []\n",
    "maxRange = 20\n",
    "for i in range(1, maxRange):\n",
    "    model_svc2 = SVC(C=i, random_state=123)\n",
    "    model_svc2.fit(x_train, y_train)\n",
    "    training_acc.append(model_svc2.score(x_train, y_train))\n",
    "    test_acc.append(model_svc2.score(x_test, y_test))\n",
    "    #if model_svc.score(x_test, y_test) = 1: stop the loop, since no test, use train for now\n",
    "    # if model_svc.score(x_train, y_train) == 1:\n",
    "    #     #break after next iteration\n",
    "    #     break\n",
    "    #print(model_svc.score(x_train, y_train))\n",
    "\n",
    "plt.plot(range(1, len(training_acc)+1), training_acc, color=\"blue\", label=\"training accuracy\")\n",
    "plt.plot(range(1, len(test_acc)+1), test_acc,  color=\"red\", label=\"test accuracy\")\n",
    "\n",
    "    #add labels and title\n",
    "plt.title('KNN Model')\n",
    "plt.xlabel('K')\n",
    "plt.ylabel('Accuracy')\n",
    "#make X labels increase by even numbers\n",
    "plt.xticks(np.arange(1, maxRange+1, 1.0))\n",
    "\n",
    "#draw a vertical line at the max test accuracy with a 50 percent opacity\n",
    "plt.axvline(x=test_acc.index(max(test_acc))+1, color='green', alpha=0.5)"
   ]
  },
  {
   "cell_type": "code",
   "execution_count": 71,
   "metadata": {},
   "outputs": [],
   "source": [
    "# for loop to create different svm models with different gamma, C, and kernel parameters store both the score and the model\n",
    "# training_acc = []\n",
    "# test_acc = []\n",
    "maxRange = 1000\n",
    "\n",
    "#create a dictionary to store the parameters and the score\n",
    "param_score = []\n",
    "\n",
    "ker = ['linear', 'poly', 'rbf', 'sigmoid']\n",
    "\n",
    "#for every kernel, run 5 random C and gamma values\n",
    "for i in range(1, 10):\n",
    "    #randomly select gamma, C, and kernel\n",
    "    #random float\n",
    "    gamma = np.random.uniform(1, maxRange)\n",
    "    C = np.random.uniform(1, maxRange)\n",
    "    for kernel in ker:\n",
    "        model_svc3 = SVC(gamma=gamma, C=C, kernel=kernel, random_state=123)\n",
    "\n",
    "        #fit the model\n",
    "        model_svc3.fit(x_train, y_train)\n",
    "\n",
    "        #save the parameters and the score\n",
    "        param_score.append({'gamma': gamma, 'C': C, 'kernel': kernel, 'score': model_svc3.score(x_test, y_test)})\n",
    "        #print(model_svc.score(x_train, y_train))"
   ]
  },
  {
   "cell_type": "code",
   "execution_count": 72,
   "metadata": {},
   "outputs": [],
   "source": [
    "# explain to a 5 year old what does the parameter C mean/do?\n",
    "# a: C is the penalty parameter of the error term. It controls the trade off between smooth decision boundary and classifying the training points correctly.\n",
    "\n",
    "# explain to a 5 year old what does the parameter Gamma mean/do?\n",
    "# a: Gamma defines how far the influence of a single training example reaches, with low values meaning ‘far’ and high values meaning ‘close’. The gamma parameters can be seen as the inverse of the radius of influence of samples selected by the model as support vectors.\n",
    "\n",
    "# explain to a 5 year old what does the parameter Kernel mean/do?\n",
    "# a: Kernel is a function that takes low dimensional input space and transforms it into a higher dimensional space.\n"
   ]
  },
  {
   "cell_type": "code",
   "execution_count": 73,
   "metadata": {},
   "outputs": [
    {
     "data": {
      "text/html": [
       "<div>\n",
       "<style scoped>\n",
       "    .dataframe tbody tr th:only-of-type {\n",
       "        vertical-align: middle;\n",
       "    }\n",
       "\n",
       "    .dataframe tbody tr th {\n",
       "        vertical-align: top;\n",
       "    }\n",
       "\n",
       "    .dataframe thead th {\n",
       "        text-align: right;\n",
       "    }\n",
       "</style>\n",
       "<table border=\"1\" class=\"dataframe\">\n",
       "  <thead>\n",
       "    <tr style=\"text-align: right;\">\n",
       "      <th></th>\n",
       "      <th>gamma</th>\n",
       "      <th>C</th>\n",
       "      <th>kernel</th>\n",
       "      <th>score</th>\n",
       "    </tr>\n",
       "  </thead>\n",
       "  <tbody>\n",
       "    <tr>\n",
       "      <th>0</th>\n",
       "      <td>402.173475</td>\n",
       "      <td>231.621151</td>\n",
       "      <td>linear</td>\n",
       "      <td>0.867460</td>\n",
       "    </tr>\n",
       "    <tr>\n",
       "      <th>1</th>\n",
       "      <td>402.173475</td>\n",
       "      <td>231.621151</td>\n",
       "      <td>poly</td>\n",
       "      <td>0.821429</td>\n",
       "    </tr>\n",
       "    <tr>\n",
       "      <th>2</th>\n",
       "      <td>402.173475</td>\n",
       "      <td>231.621151</td>\n",
       "      <td>rbf</td>\n",
       "      <td>0.093651</td>\n",
       "    </tr>\n",
       "    <tr>\n",
       "      <th>3</th>\n",
       "      <td>402.173475</td>\n",
       "      <td>231.621151</td>\n",
       "      <td>sigmoid</td>\n",
       "      <td>0.093651</td>\n",
       "    </tr>\n",
       "    <tr>\n",
       "      <th>4</th>\n",
       "      <td>570.303062</td>\n",
       "      <td>468.984985</td>\n",
       "      <td>linear</td>\n",
       "      <td>0.867460</td>\n",
       "    </tr>\n",
       "    <tr>\n",
       "      <th>5</th>\n",
       "      <td>570.303062</td>\n",
       "      <td>468.984985</td>\n",
       "      <td>poly</td>\n",
       "      <td>0.821429</td>\n",
       "    </tr>\n",
       "    <tr>\n",
       "      <th>6</th>\n",
       "      <td>570.303062</td>\n",
       "      <td>468.984985</td>\n",
       "      <td>rbf</td>\n",
       "      <td>0.093651</td>\n",
       "    </tr>\n",
       "    <tr>\n",
       "      <th>7</th>\n",
       "      <td>570.303062</td>\n",
       "      <td>468.984985</td>\n",
       "      <td>sigmoid</td>\n",
       "      <td>0.093651</td>\n",
       "    </tr>\n",
       "    <tr>\n",
       "      <th>8</th>\n",
       "      <td>430.132815</td>\n",
       "      <td>403.358219</td>\n",
       "      <td>linear</td>\n",
       "      <td>0.867460</td>\n",
       "    </tr>\n",
       "    <tr>\n",
       "      <th>9</th>\n",
       "      <td>430.132815</td>\n",
       "      <td>403.358219</td>\n",
       "      <td>poly</td>\n",
       "      <td>0.821429</td>\n",
       "    </tr>\n",
       "    <tr>\n",
       "      <th>10</th>\n",
       "      <td>430.132815</td>\n",
       "      <td>403.358219</td>\n",
       "      <td>rbf</td>\n",
       "      <td>0.093651</td>\n",
       "    </tr>\n",
       "    <tr>\n",
       "      <th>11</th>\n",
       "      <td>430.132815</td>\n",
       "      <td>403.358219</td>\n",
       "      <td>sigmoid</td>\n",
       "      <td>0.093651</td>\n",
       "    </tr>\n",
       "    <tr>\n",
       "      <th>12</th>\n",
       "      <td>708.703814</td>\n",
       "      <td>30.779059</td>\n",
       "      <td>linear</td>\n",
       "      <td>0.867460</td>\n",
       "    </tr>\n",
       "    <tr>\n",
       "      <th>13</th>\n",
       "      <td>708.703814</td>\n",
       "      <td>30.779059</td>\n",
       "      <td>poly</td>\n",
       "      <td>0.821429</td>\n",
       "    </tr>\n",
       "    <tr>\n",
       "      <th>14</th>\n",
       "      <td>708.703814</td>\n",
       "      <td>30.779059</td>\n",
       "      <td>rbf</td>\n",
       "      <td>0.093651</td>\n",
       "    </tr>\n",
       "    <tr>\n",
       "      <th>15</th>\n",
       "      <td>708.703814</td>\n",
       "      <td>30.779059</td>\n",
       "      <td>sigmoid</td>\n",
       "      <td>0.093651</td>\n",
       "    </tr>\n",
       "    <tr>\n",
       "      <th>16</th>\n",
       "      <td>173.825541</td>\n",
       "      <td>988.525323</td>\n",
       "      <td>linear</td>\n",
       "      <td>0.867460</td>\n",
       "    </tr>\n",
       "    <tr>\n",
       "      <th>17</th>\n",
       "      <td>173.825541</td>\n",
       "      <td>988.525323</td>\n",
       "      <td>poly</td>\n",
       "      <td>0.821429</td>\n",
       "    </tr>\n",
       "    <tr>\n",
       "      <th>18</th>\n",
       "      <td>173.825541</td>\n",
       "      <td>988.525323</td>\n",
       "      <td>rbf</td>\n",
       "      <td>0.093651</td>\n",
       "    </tr>\n",
       "    <tr>\n",
       "      <th>19</th>\n",
       "      <td>173.825541</td>\n",
       "      <td>988.525323</td>\n",
       "      <td>sigmoid</td>\n",
       "      <td>0.093651</td>\n",
       "    </tr>\n",
       "    <tr>\n",
       "      <th>20</th>\n",
       "      <td>39.545405</td>\n",
       "      <td>421.025371</td>\n",
       "      <td>linear</td>\n",
       "      <td>0.867460</td>\n",
       "    </tr>\n",
       "    <tr>\n",
       "      <th>21</th>\n",
       "      <td>39.545405</td>\n",
       "      <td>421.025371</td>\n",
       "      <td>poly</td>\n",
       "      <td>0.821429</td>\n",
       "    </tr>\n",
       "    <tr>\n",
       "      <th>22</th>\n",
       "      <td>39.545405</td>\n",
       "      <td>421.025371</td>\n",
       "      <td>rbf</td>\n",
       "      <td>0.093651</td>\n",
       "    </tr>\n",
       "    <tr>\n",
       "      <th>23</th>\n",
       "      <td>39.545405</td>\n",
       "      <td>421.025371</td>\n",
       "      <td>sigmoid</td>\n",
       "      <td>0.093651</td>\n",
       "    </tr>\n",
       "    <tr>\n",
       "      <th>24</th>\n",
       "      <td>532.299504</td>\n",
       "      <td>551.753021</td>\n",
       "      <td>linear</td>\n",
       "      <td>0.867460</td>\n",
       "    </tr>\n",
       "    <tr>\n",
       "      <th>25</th>\n",
       "      <td>532.299504</td>\n",
       "      <td>551.753021</td>\n",
       "      <td>poly</td>\n",
       "      <td>0.821429</td>\n",
       "    </tr>\n",
       "    <tr>\n",
       "      <th>26</th>\n",
       "      <td>532.299504</td>\n",
       "      <td>551.753021</td>\n",
       "      <td>rbf</td>\n",
       "      <td>0.093651</td>\n",
       "    </tr>\n",
       "    <tr>\n",
       "      <th>27</th>\n",
       "      <td>532.299504</td>\n",
       "      <td>551.753021</td>\n",
       "      <td>sigmoid</td>\n",
       "      <td>0.093651</td>\n",
       "    </tr>\n",
       "    <tr>\n",
       "      <th>28</th>\n",
       "      <td>336.541061</td>\n",
       "      <td>42.057158</td>\n",
       "      <td>linear</td>\n",
       "      <td>0.867460</td>\n",
       "    </tr>\n",
       "    <tr>\n",
       "      <th>29</th>\n",
       "      <td>336.541061</td>\n",
       "      <td>42.057158</td>\n",
       "      <td>poly</td>\n",
       "      <td>0.821429</td>\n",
       "    </tr>\n",
       "    <tr>\n",
       "      <th>30</th>\n",
       "      <td>336.541061</td>\n",
       "      <td>42.057158</td>\n",
       "      <td>rbf</td>\n",
       "      <td>0.093651</td>\n",
       "    </tr>\n",
       "    <tr>\n",
       "      <th>31</th>\n",
       "      <td>336.541061</td>\n",
       "      <td>42.057158</td>\n",
       "      <td>sigmoid</td>\n",
       "      <td>0.093651</td>\n",
       "    </tr>\n",
       "    <tr>\n",
       "      <th>32</th>\n",
       "      <td>510.343123</td>\n",
       "      <td>138.199690</td>\n",
       "      <td>linear</td>\n",
       "      <td>0.867460</td>\n",
       "    </tr>\n",
       "    <tr>\n",
       "      <th>33</th>\n",
       "      <td>510.343123</td>\n",
       "      <td>138.199690</td>\n",
       "      <td>poly</td>\n",
       "      <td>0.821429</td>\n",
       "    </tr>\n",
       "    <tr>\n",
       "      <th>34</th>\n",
       "      <td>510.343123</td>\n",
       "      <td>138.199690</td>\n",
       "      <td>rbf</td>\n",
       "      <td>0.093651</td>\n",
       "    </tr>\n",
       "    <tr>\n",
       "      <th>35</th>\n",
       "      <td>510.343123</td>\n",
       "      <td>138.199690</td>\n",
       "      <td>sigmoid</td>\n",
       "      <td>0.093651</td>\n",
       "    </tr>\n",
       "  </tbody>\n",
       "</table>\n",
       "</div>"
      ],
      "text/plain": [
       "         gamma           C   kernel     score\n",
       "0   402.173475  231.621151   linear  0.867460\n",
       "1   402.173475  231.621151     poly  0.821429\n",
       "2   402.173475  231.621151      rbf  0.093651\n",
       "3   402.173475  231.621151  sigmoid  0.093651\n",
       "4   570.303062  468.984985   linear  0.867460\n",
       "5   570.303062  468.984985     poly  0.821429\n",
       "6   570.303062  468.984985      rbf  0.093651\n",
       "7   570.303062  468.984985  sigmoid  0.093651\n",
       "8   430.132815  403.358219   linear  0.867460\n",
       "9   430.132815  403.358219     poly  0.821429\n",
       "10  430.132815  403.358219      rbf  0.093651\n",
       "11  430.132815  403.358219  sigmoid  0.093651\n",
       "12  708.703814   30.779059   linear  0.867460\n",
       "13  708.703814   30.779059     poly  0.821429\n",
       "14  708.703814   30.779059      rbf  0.093651\n",
       "15  708.703814   30.779059  sigmoid  0.093651\n",
       "16  173.825541  988.525323   linear  0.867460\n",
       "17  173.825541  988.525323     poly  0.821429\n",
       "18  173.825541  988.525323      rbf  0.093651\n",
       "19  173.825541  988.525323  sigmoid  0.093651\n",
       "20   39.545405  421.025371   linear  0.867460\n",
       "21   39.545405  421.025371     poly  0.821429\n",
       "22   39.545405  421.025371      rbf  0.093651\n",
       "23   39.545405  421.025371  sigmoid  0.093651\n",
       "24  532.299504  551.753021   linear  0.867460\n",
       "25  532.299504  551.753021     poly  0.821429\n",
       "26  532.299504  551.753021      rbf  0.093651\n",
       "27  532.299504  551.753021  sigmoid  0.093651\n",
       "28  336.541061   42.057158   linear  0.867460\n",
       "29  336.541061   42.057158     poly  0.821429\n",
       "30  336.541061   42.057158      rbf  0.093651\n",
       "31  336.541061   42.057158  sigmoid  0.093651\n",
       "32  510.343123  138.199690   linear  0.867460\n",
       "33  510.343123  138.199690     poly  0.821429\n",
       "34  510.343123  138.199690      rbf  0.093651\n",
       "35  510.343123  138.199690  sigmoid  0.093651"
      ]
     },
     "execution_count": 73,
     "metadata": {},
     "output_type": "execute_result"
    }
   ],
   "source": [
    "#convert param_score to a dataframe\n",
    "param_score = pd.DataFrame(param_score)\n",
    "param_score"
   ]
  },
  {
   "cell_type": "code",
   "execution_count": 74,
   "metadata": {},
   "outputs": [
    {
     "data": {
      "image/png": "[encoded data removed]",
      "text/plain": [
       "<Figure size 640x480 with 1 Axes>"
      ]
     },
     "metadata": {},
     "output_type": "display_data"
    }
   ],
   "source": [
    "temp = param_score[param_score.kernel == 'linear']\n",
    "temp.reset_index(inplace=True)\n",
    "sns.lineplot(x=temp.index, y='score', data=temp)\n",
    "\n",
    "#for loop to sns plots to compare the different kernels\n",
    "for kernel in ker:\n",
    "    temp = param_score[param_score.kernel == kernel]\n",
    "    temp.reset_index(inplace=True)\n",
    "    sns.lineplot(x=temp.index, y='score', data=temp, label=kernel)"
   ]
  },
  {
   "cell_type": "code",
   "execution_count": 75,
   "metadata": {},
   "outputs": [],
   "source": [
    "# #figure size\n",
    "# plt.figure(figsize=(10, 6))\n",
    "# #plot the training accuracy from 1 to maxRange\n",
    "# plt.plot(range(1, len(training_acc)+1), training_acc,color=\"blue\", label=\"training accuracy\")\n",
    "# plt.plot(range(1, len(training_acc)+1), test_acc, color = 'red', label=\"testing accuracy\")\n",
    "\n",
    "# #show data by kernel, \n",
    "# plt.legend()\n",
    "# plt.show()\n"
   ]
  },
  {
   "cell_type": "code",
   "execution_count": 76,
   "metadata": {},
   "outputs": [
    {
     "name": "stdout",
     "output_type": "stream",
     "text": [
      "Best Kernel:  linear\n"
     ]
    }
   ],
   "source": [
    "# print(param_score)\n",
    "\n",
    "#select the kernel of the highest score\n",
    "bestKerr = param_score[param_score.score == param_score.score.max()].kernel.values[0]\n",
    "print(\"Best Kernel: \", bestKerr)"
   ]
  },
  {
   "cell_type": "code",
   "execution_count": 77,
   "metadata": {},
   "outputs": [
    {
     "data": {
      "text/plain": [
       "1.0"
      ]
     },
     "execution_count": 77,
     "metadata": {},
     "output_type": "execute_result"
    }
   ],
   "source": [
    "#using the best parameters from the loop above\n",
    "model_svcFinal = SVC(gamma='scale', C=3, kernel=bestKerr, random_state=123)\n",
    "model_svcFinal.fit(x_train, y_train)\n",
    "model_svcFinal.score(x_train, y_train)"
   ]
  },
  {
   "cell_type": "code",
   "execution_count": 78,
   "metadata": {},
   "outputs": [
    {
     "data": {
      "text/plain": [
       "0.8674603174603175"
      ]
     },
     "execution_count": 78,
     "metadata": {},
     "output_type": "execute_result"
    }
   ],
   "source": [
    "#score test data\n",
    "model_svcFinal.score(x_test, y_test)"
   ]
  },
  {
   "cell_type": "code",
   "execution_count": 79,
   "metadata": {},
   "outputs": [
    {
     "name": "stdout",
     "output_type": "stream",
     "text": [
      "0.8674603174603175\n",
      "              precision    recall  f1-score   support\n",
      "\n",
      "           0       0.92      0.93      0.92       118\n",
      "           1       0.87      0.97      0.92       129\n",
      "           2       0.85      0.79      0.82       139\n",
      "           3       0.81      0.89      0.85       125\n",
      "           4       0.86      0.90      0.88       122\n",
      "           5       0.90      0.75      0.82       126\n",
      "           6       0.87      0.90      0.88       102\n",
      "           7       0.91      0.95      0.93       153\n",
      "           8       0.87      0.77      0.82       133\n",
      "           9       0.82      0.82      0.82       113\n",
      "\n",
      "    accuracy                           0.87      1260\n",
      "   macro avg       0.87      0.87      0.87      1260\n",
      "weighted avg       0.87      0.87      0.87      1260\n",
      "\n"
     ]
    }
   ],
   "source": [
    "#predict test data\n",
    "y_pred = model_svcFinal.predict(x_test)\n",
    "\n",
    "#accuracy score\n",
    "\n",
    "print(accuracy_score(y_test, y_pred))\n",
    "\n",
    "#classification report\n",
    "print(classification_report(y_test, y_pred))"
   ]
  },
  {
   "cell_type": "code",
   "execution_count": 80,
   "metadata": {},
   "outputs": [
    {
     "data": {
      "text/plain": [
       "1.0"
      ]
     },
     "execution_count": 80,
     "metadata": {},
     "output_type": "execute_result"
    }
   ],
   "source": [
    "model_svcFinal.score(x_train, y_train)"
   ]
  },
  {
   "cell_type": "code",
   "execution_count": 81,
   "metadata": {},
   "outputs": [
    {
     "data": {
      "text/plain": [
       "0.8674603174603175"
      ]
     },
     "execution_count": 81,
     "metadata": {},
     "output_type": "execute_result"
    }
   ],
   "source": [
    "model_svcFinal.score(x_test, y_test)"
   ]
  },
  {
   "cell_type": "code",
   "execution_count": 82,
   "metadata": {},
   "outputs": [],
   "source": [
    "# pipeline and gridsearch\n",
    "# create a pipeline"
   ]
  },
  {
   "cell_type": "code",
   "execution_count": 83,
   "metadata": {},
   "outputs": [
    {
     "data": {
      "text/html": [
       "<style>#sk-container-id-5 {color: black;background-color: white;}#sk-container-id-5 pre{padding: 0;}#sk-container-id-5 div.sk-toggleable {background-color: white;}#sk-container-id-5 label.sk-toggleable__label {cursor: pointer;display: block;width: 100%;margin-bottom: 0;padding: 0.3em;box-sizing: border-box;text-align: center;}#sk-container-id-5 label.sk-toggleable__label-arrow:before {content: \"▸\";float: left;margin-right: 0.25em;color: #696969;}#sk-container-id-5 label.sk-toggleable__label-arrow:hover:before {color: black;}#sk-container-id-5 div.sk-estimator:hover label.sk-toggleable__label-arrow:before {color: black;}#sk-container-id-5 div.sk-toggleable__content {max-height: 0;max-width: 0;overflow: hidden;text-align: left;background-color: #f0f8ff;}#sk-container-id-5 div.sk-toggleable__content pre {margin: 0.2em;color: black;border-radius: 0.25em;background-color: #f0f8ff;}#sk-container-id-5 input.sk-toggleable__control:checked~div.sk-toggleable__content {max-height: 200px;max-width: 100%;overflow: auto;}#sk-container-id-5 input.sk-toggleable__control:checked~label.sk-toggleable__label-arrow:before {content: \"▾\";}#sk-container-id-5 div.sk-estimator input.sk-toggleable__control:checked~label.sk-toggleable__label {background-color: #d4ebff;}#sk-container-id-5 div.sk-label input.sk-toggleable__control:checked~label.sk-toggleable__label {background-color: #d4ebff;}#sk-container-id-5 input.sk-hidden--visually {border: 0;clip: rect(1px 1px 1px 1px);clip: rect(1px, 1px, 1px, 1px);height: 1px;margin: -1px;overflow: hidden;padding: 0;position: absolute;width: 1px;}#sk-container-id-5 div.sk-estimator {font-family: monospace;background-color: #f0f8ff;border: 1px dotted black;border-radius: 0.25em;box-sizing: border-box;margin-bottom: 0.5em;}#sk-container-id-5 div.sk-estimator:hover {background-color: #d4ebff;}#sk-container-id-5 div.sk-parallel-item::after {content: \"\";width: 100%;border-bottom: 1px solid gray;flex-grow: 1;}#sk-container-id-5 div.sk-label:hover label.sk-toggleable__label {background-color: #d4ebff;}#sk-container-id-5 div.sk-serial::before {content: \"\";position: absolute;border-left: 1px solid gray;box-sizing: border-box;top: 0;bottom: 0;left: 50%;z-index: 0;}#sk-container-id-5 div.sk-serial {display: flex;flex-direction: column;align-items: center;background-color: white;padding-right: 0.2em;padding-left: 0.2em;position: relative;}#sk-container-id-5 div.sk-item {position: relative;z-index: 1;}#sk-container-id-5 div.sk-parallel {display: flex;align-items: stretch;justify-content: center;background-color: white;position: relative;}#sk-container-id-5 div.sk-item::before, #sk-container-id-5 div.sk-parallel-item::before {content: \"\";position: absolute;border-left: 1px solid gray;box-sizing: border-box;top: 0;bottom: 0;left: 50%;z-index: -1;}#sk-container-id-5 div.sk-parallel-item {display: flex;flex-direction: column;z-index: 1;position: relative;background-color: white;}#sk-container-id-5 div.sk-parallel-item:first-child::after {align-self: flex-end;width: 50%;}#sk-container-id-5 div.sk-parallel-item:last-child::after {align-self: flex-start;width: 50%;}#sk-container-id-5 div.sk-parallel-item:only-child::after {width: 0;}#sk-container-id-5 div.sk-dashed-wrapped {border: 1px dashed gray;margin: 0 0.4em 0.5em 0.4em;box-sizing: border-box;padding-bottom: 0.4em;background-color: white;}#sk-container-id-5 div.sk-label label {font-family: monospace;font-weight: bold;display: inline-block;line-height: 1.2em;}#sk-container-id-5 div.sk-label-container {text-align: center;}#sk-container-id-5 div.sk-container {/* jupyter's `normalize.less` sets `[hidden] { display: none; }` but bootstrap.min.css set `[hidden] { display: none !important; }` so we also need the `!important` here to be able to override the default hidden behavior on the sphinx rendered scikit-learn.org. See: https://github.com/scikit-learn/scikit-learn/issues/21755 */display: inline-block !important;position: relative;}#sk-container-id-5 div.sk-text-repr-fallback {display: none;}</style><div id=\"sk-container-id-5\" class=\"sk-top-container\"><div class=\"sk-text-repr-fallback\"><pre>Pipeline(steps=[(&#x27;standardscaler&#x27;, StandardScaler()),\n",
       "                (&#x27;svc&#x27;, SVC(C=3, kernel=&#x27;linear&#x27;, random_state=123))])</pre><b>In a Jupyter environment, please rerun this cell to show the HTML representation or trust the notebook. <br />On GitHub, the HTML representation is unable to render, please try loading this page with nbviewer.org.</b></div><div class=\"sk-container\" hidden><div class=\"sk-item sk-dashed-wrapped\"><div class=\"sk-label-container\"><div class=\"sk-label sk-toggleable\"><input class=\"sk-toggleable__control sk-hidden--visually\" id=\"sk-estimator-id-13\" type=\"checkbox\" ><label for=\"sk-estimator-id-13\" class=\"sk-toggleable__label sk-toggleable__label-arrow\">Pipeline</label><div class=\"sk-toggleable__content\"><pre>Pipeline(steps=[(&#x27;standardscaler&#x27;, StandardScaler()),\n",
       "                (&#x27;svc&#x27;, SVC(C=3, kernel=&#x27;linear&#x27;, random_state=123))])</pre></div></div></div><div class=\"sk-serial\"><div class=\"sk-item\"><div class=\"sk-estimator sk-toggleable\"><input class=\"sk-toggleable__control sk-hidden--visually\" id=\"sk-estimator-id-14\" type=\"checkbox\" ><label for=\"sk-estimator-id-14\" class=\"sk-toggleable__label sk-toggleable__label-arrow\">StandardScaler</label><div class=\"sk-toggleable__content\"><pre>StandardScaler()</pre></div></div></div><div class=\"sk-item\"><div class=\"sk-estimator sk-toggleable\"><input class=\"sk-toggleable__control sk-hidden--visually\" id=\"sk-estimator-id-15\" type=\"checkbox\" ><label for=\"sk-estimator-id-15\" class=\"sk-toggleable__label sk-toggleable__label-arrow\">SVC</label><div class=\"sk-toggleable__content\"><pre>SVC(C=3, kernel=&#x27;linear&#x27;, random_state=123)</pre></div></div></div></div></div></div></div>"
      ],
      "text/plain": [
       "Pipeline(steps=[('standardscaler', StandardScaler()),\n",
       "                ('svc', SVC(C=3, kernel='linear', random_state=123))])"
      ]
     },
     "execution_count": 83,
     "metadata": {},
     "output_type": "execute_result"
    }
   ],
   "source": [
    "model_svc4 = make_pipeline(StandardScaler(), SVC(gamma='scale', C=3, kernel='linear', random_state=123))\n",
    "#fit the model\n",
    "model_svc4.fit(x_train, y_train)\n"
   ]
  },
  {
   "cell_type": "code",
   "execution_count": 84,
   "metadata": {},
   "outputs": [
    {
     "data": {
      "text/plain": [
       "1.0"
      ]
     },
     "execution_count": 84,
     "metadata": {},
     "output_type": "execute_result"
    }
   ],
   "source": [
    "#score the model\n",
    "model_svc4.score(x_train, y_train)"
   ]
  },
  {
   "cell_type": "code",
   "execution_count": 85,
   "metadata": {},
   "outputs": [
    {
     "data": {
      "text/plain": [
       "0.8531746031746031"
      ]
     },
     "execution_count": 85,
     "metadata": {},
     "output_type": "execute_result"
    }
   ],
   "source": [
    "#score test data\n",
    "model_svc4.score(x_test, y_test)"
   ]
  },
  {
   "cell_type": "code",
   "execution_count": 86,
   "metadata": {},
   "outputs": [
    {
     "data": {
      "text/plain": [
       "{'svc__C': 616.0080284614355,\n",
       " 'svc__gamma': 448.0926918668793,\n",
       " 'svc__kernel': 'linear'}"
      ]
     },
     "execution_count": 86,
     "metadata": {},
     "output_type": "execute_result"
    }
   ],
   "source": [
    "#pipeline and gridsearch model \n",
    "model_svcFinal2 = make_pipeline(StandardScaler(), SVC())\n",
    "\n",
    "#parameters to test\n",
    "ker = ['linear', 'poly', 'rbf', 'sigmoid']\n",
    "gamma = np.random.uniform(1, maxRange, 5)\n",
    "C = np.random.uniform(1, maxRange, 5)\n",
    "\n",
    "#add parameters to a dictionary\n",
    "param_grid = {'svc__gamma': gamma, 'svc__C': C, 'svc__kernel': ker}\n",
    "\n",
    "#use gridsearch to find the best parameters\n",
    "grid = GridSearchCV(model_svcFinal2, param_grid, cv=5, return_train_score=True)\n",
    "grid.fit(x_train, y_train)\n",
    "\n",
    "#best parameters\n",
    "grid.best_params_\n",
    "\n",
    "# model_svcFinal.fit(x_train, y_train)"
   ]
  },
  {
   "cell_type": "code",
   "execution_count": 87,
   "metadata": {},
   "outputs": [
    {
     "data": {
      "text/plain": [
       "1.0"
      ]
     },
     "execution_count": 87,
     "metadata": {},
     "output_type": "execute_result"
    }
   ],
   "source": [
    "grid.score(x_train, y_train)"
   ]
  },
  {
   "cell_type": "code",
   "execution_count": 88,
   "metadata": {},
   "outputs": [
    {
     "data": {
      "text/plain": [
       "0.8531746031746031"
      ]
     },
     "execution_count": 88,
     "metadata": {},
     "output_type": "execute_result"
    }
   ],
   "source": [
    "grid.score(x_test, y_test)"
   ]
  },
  {
   "cell_type": "code",
   "execution_count": 89,
   "metadata": {},
   "outputs": [],
   "source": [
    "# import sklearn.external.joblib as extjoblib\n",
    "import joblib\n",
    "\n",
    "# q:  how to I download joblib to my computer?\n",
    "# a:  pip install joblib"
   ]
  },
  {
   "cell_type": "code",
   "execution_count": 90,
   "metadata": {},
   "outputs": [
    {
     "name": "stdout",
     "output_type": "stream",
     "text": [
      "{'C': 1.0, 'break_ties': False, 'cache_size': 200, 'class_weight': None, 'coef0': 0.0, 'decision_function_shape': 'ovr', 'degree': 3, 'gamma': 'scale', 'kernel': 'rbf', 'max_iter': -1, 'probability': False, 'random_state': 123, 'shrinking': True, 'tol': 0.001, 'verbose': False}\n",
      "{'C': 19, 'break_ties': False, 'cache_size': 200, 'class_weight': None, 'coef0': 0.0, 'decision_function_shape': 'ovr', 'degree': 3, 'gamma': 'scale', 'kernel': 'rbf', 'max_iter': -1, 'probability': False, 'random_state': 123, 'shrinking': True, 'tol': 0.001, 'verbose': False}\n",
      "{'C': 19, 'break_ties': False, 'cache_size': 200, 'class_weight': None, 'coef0': 0.0, 'decision_function_shape': 'ovr', 'degree': 3, 'gamma': 'scale', 'kernel': 'rbf', 'max_iter': -1, 'probability': False, 'random_state': 123, 'shrinking': True, 'tol': 0.001, 'verbose': False}\n",
      "{'C': 19, 'break_ties': False, 'cache_size': 200, 'class_weight': None, 'coef0': 0.0, 'decision_function_shape': 'ovr', 'degree': 3, 'gamma': 'scale', 'kernel': 'rbf', 'max_iter': -1, 'probability': False, 'random_state': 123, 'shrinking': True, 'tol': 0.001, 'verbose': False}\n",
      "{'C': 19, 'break_ties': False, 'cache_size': 200, 'class_weight': None, 'coef0': 0.0, 'decision_function_shape': 'ovr', 'degree': 3, 'gamma': 'scale', 'kernel': 'rbf', 'max_iter': -1, 'probability': False, 'random_state': 123, 'shrinking': True, 'tol': 0.001, 'verbose': False}\n"
     ]
    },
    {
     "data": {
      "text/plain": [
       "['models/model_svcFinal.pkl']"
      ]
     },
     "execution_count": 90,
     "metadata": {},
     "output_type": "execute_result"
    }
   ],
   "source": [
    "models = [model_svc, model_svc2, model_svc3, model_svcFinal, grid]\n",
    "\n",
    "#print the training and test score, and the parameters\n",
    "#save test score associated with the model\n",
    "test_score = []\n",
    "for model in models:\n",
    "    test_score.append(model.score(x_test, y_test))\n",
    "    #find the best model via the highest test score\n",
    "    best_model = models[test_score.index(max(test_score))]\n",
    "    #print parameters of the best model\n",
    "    print(best_model.get_params())\n",
    "    #save the best model\n",
    "joblib.dump(best_model, 'models/model_svcFinal.pkl')"
   ]
  },
  {
   "cell_type": "code",
   "execution_count": 91,
   "metadata": {},
   "outputs": [],
   "source": [
    "#save the model in data folder\n",
    "#joblib.dump(model_svcFinal, 'data/model_svcFinal.pkl')"
   ]
  }
 ],
 "metadata": {
  "kernelspec": {
   "display_name": "Python 3.9.15 ('base')",
   "language": "python",
   "name": "python3"
  },
  "language_info": {
   "codemirror_mode": {
    "name": "ipython",
    "version": 3
   },
   "file_extension": ".py",
   "mimetype": "text/x-python",
   "name": "python",
   "nbconvert_exporter": "python",
   "pygments_lexer": "ipython3",
   "version": "3.9.15"
  },
  "orig_nbformat": 4,
  "vscode": {
   "interpreter": {
    "hash": "ee2d1839cad92f90f9f62217fd0d40058e152c1d1bad45469f220df045bf9106"
   }
  }
 },
 "nbformat": 4,
 "nbformat_minor": 2
}
