{
 "cells": [
  {
   "cell_type": "code",
   "execution_count": 1,
   "metadata": {},
   "outputs": [],
   "source": [
    "#import basis and data\n",
    "import numpy as np\n",
    "import pandas as pd\n",
    "import matplotlib.pyplot as plt\n",
    "import seaborn as sns\n",
    "# from sklearn import svm\n",
    "from sklearn.pipeline import make_pipeline\n",
    "from sklearn.preprocessing import StandardScaler\n",
    "from sklearn.svm import SVC\n",
    "from sklearn.model_selection import train_test_split\n",
    "from sklearn.metrics import accuracy_score\n",
    "from sklearn.metrics import classification_report\n",
    "\n",
    "from sklearn.pipeline import make_pipeline\n",
    "from sklearn.preprocessing import StandardScaler\n",
    "from sklearn.svm import SVC\n",
    "\n",
    "#use gridsearch to find the best parameters\n",
    "from sklearn.model_selection import GridSearchCV"
   ]
  },
  {
   "cell_type": "code",
   "execution_count": 2,
   "metadata": {},
   "outputs": [],
   "source": [
    "#import data\n",
    "#train_data = pd.read_csv('data/train.csv')\n",
    "#test_data = pd.read_csv('data/test.csv')\n",
    "\n",
    "data = pd.read_csv('data/train.csv')"
   ]
  },
  {
   "cell_type": "code",
   "execution_count": 3,
   "metadata": {},
   "outputs": [],
   "source": [
    "#split data into 30% test and 70% train, random_state = 123, stratify = 'label', xtrain, xtest, ytrain, ytest\n",
    "\n",
    "train, test = train_test_split(data, test_size=0.3, random_state=123, stratify=data['label'])"
   ]
  },
  {
   "cell_type": "code",
   "execution_count": 4,
   "metadata": {},
   "outputs": [],
   "source": [
    "#random stratified sample the data 10% for quicker run time\n",
    "## how can I stratify this?\n",
    "#train_data = train.sample(frac=0.1, replace=True, random_state=123, )\n",
    "#test_data = test.sample(frac=0.1, replace=True, random_state=123, )\n",
    "\n",
    "train_data = train\n",
    "test_data = test\n",
    "\n",
    "# train_data = train.sample(frac=0.01, replace=True, random_state=123, )\n",
    "# test_data = test.sample(frac=0.1, replace=True, random_state=123, )"
   ]
  },
  {
   "cell_type": "code",
   "execution_count": 5,
   "metadata": {},
   "outputs": [
    {
     "data": {
      "text/plain": [
       "0    34\n",
       "3    33\n",
       "8    33\n",
       "2    31\n",
       "5    30\n",
       "4    30\n",
       "6    29\n",
       "9    27\n",
       "1    26\n",
       "7    21\n",
       "Name: label, dtype: int64"
      ]
     },
     "execution_count": 5,
     "metadata": {},
     "output_type": "execute_result"
    }
   ],
   "source": [
    "#confirm stratification\n",
    "train_data['label'].value_counts()"
   ]
  },
  {
   "cell_type": "code",
   "execution_count": 6,
   "metadata": {},
   "outputs": [
    {
     "data": {
      "text/plain": [
       "4    20\n",
       "5    19\n",
       "3    14\n",
       "2    12\n",
       "0    12\n",
       "7    11\n",
       "8    11\n",
       "6    10\n",
       "1    10\n",
       "9     7\n",
       "Name: label, dtype: int64"
      ]
     },
     "execution_count": 6,
     "metadata": {},
     "output_type": "execute_result"
    }
   ],
   "source": [
    "#confirm stratification\n",
    "test_data['label'].value_counts()"
   ]
  },
  {
   "cell_type": "code",
   "execution_count": 7,
   "metadata": {},
   "outputs": [
    {
     "data": {
      "text/plain": [
       "<AxesSubplot: xlabel='label', ylabel='count'>"
      ]
     },
     "execution_count": 7,
     "metadata": {},
     "output_type": "execute_result"
    },
    {
     "data": {
      "image/png": "[encoded data removed]",
      "text/plain": [
       "<Figure size 640x480 with 1 Axes>"
      ]
     },
     "metadata": {},
     "output_type": "display_data"
    }
   ],
   "source": [
    "#graph confirm stratification\n",
    "sns.countplot(x='label', data=train_data)"
   ]
  },
  {
   "cell_type": "code",
   "execution_count": 8,
   "metadata": {},
   "outputs": [
    {
     "data": {
      "text/html": [
       "<div>\n",
       "<style scoped>\n",
       "    .dataframe tbody tr th:only-of-type {\n",
       "        vertical-align: middle;\n",
       "    }\n",
       "\n",
       "    .dataframe tbody tr th {\n",
       "        vertical-align: top;\n",
       "    }\n",
       "\n",
       "    .dataframe thead th {\n",
       "        text-align: right;\n",
       "    }\n",
       "</style>\n",
       "<table border=\"1\" class=\"dataframe\">\n",
       "  <thead>\n",
       "    <tr style=\"text-align: right;\">\n",
       "      <th></th>\n",
       "      <th>label</th>\n",
       "      <th>pixel0</th>\n",
       "      <th>pixel1</th>\n",
       "      <th>pixel2</th>\n",
       "      <th>pixel3</th>\n",
       "      <th>pixel4</th>\n",
       "      <th>pixel5</th>\n",
       "      <th>pixel6</th>\n",
       "      <th>pixel7</th>\n",
       "      <th>pixel8</th>\n",
       "      <th>...</th>\n",
       "      <th>pixel774</th>\n",
       "      <th>pixel775</th>\n",
       "      <th>pixel776</th>\n",
       "      <th>pixel777</th>\n",
       "      <th>pixel778</th>\n",
       "      <th>pixel779</th>\n",
       "      <th>pixel780</th>\n",
       "      <th>pixel781</th>\n",
       "      <th>pixel782</th>\n",
       "      <th>pixel783</th>\n",
       "    </tr>\n",
       "  </thead>\n",
       "  <tbody>\n",
       "    <tr>\n",
       "      <th>34950</th>\n",
       "      <td>5</td>\n",
       "      <td>0</td>\n",
       "      <td>0</td>\n",
       "      <td>0</td>\n",
       "      <td>0</td>\n",
       "      <td>0</td>\n",
       "      <td>0</td>\n",
       "      <td>0</td>\n",
       "      <td>0</td>\n",
       "      <td>0</td>\n",
       "      <td>...</td>\n",
       "      <td>0</td>\n",
       "      <td>0</td>\n",
       "      <td>0</td>\n",
       "      <td>0</td>\n",
       "      <td>0</td>\n",
       "      <td>0</td>\n",
       "      <td>0</td>\n",
       "      <td>0</td>\n",
       "      <td>0</td>\n",
       "      <td>0</td>\n",
       "    </tr>\n",
       "    <tr>\n",
       "      <th>41451</th>\n",
       "      <td>5</td>\n",
       "      <td>0</td>\n",
       "      <td>0</td>\n",
       "      <td>0</td>\n",
       "      <td>0</td>\n",
       "      <td>0</td>\n",
       "      <td>0</td>\n",
       "      <td>0</td>\n",
       "      <td>0</td>\n",
       "      <td>0</td>\n",
       "      <td>...</td>\n",
       "      <td>0</td>\n",
       "      <td>0</td>\n",
       "      <td>0</td>\n",
       "      <td>0</td>\n",
       "      <td>0</td>\n",
       "      <td>0</td>\n",
       "      <td>0</td>\n",
       "      <td>0</td>\n",
       "      <td>0</td>\n",
       "      <td>0</td>\n",
       "    </tr>\n",
       "    <tr>\n",
       "      <th>35924</th>\n",
       "      <td>3</td>\n",
       "      <td>0</td>\n",
       "      <td>0</td>\n",
       "      <td>0</td>\n",
       "      <td>0</td>\n",
       "      <td>0</td>\n",
       "      <td>0</td>\n",
       "      <td>0</td>\n",
       "      <td>0</td>\n",
       "      <td>0</td>\n",
       "      <td>...</td>\n",
       "      <td>0</td>\n",
       "      <td>0</td>\n",
       "      <td>0</td>\n",
       "      <td>0</td>\n",
       "      <td>0</td>\n",
       "      <td>0</td>\n",
       "      <td>0</td>\n",
       "      <td>0</td>\n",
       "      <td>0</td>\n",
       "      <td>0</td>\n",
       "    </tr>\n",
       "    <tr>\n",
       "      <th>25119</th>\n",
       "      <td>6</td>\n",
       "      <td>0</td>\n",
       "      <td>0</td>\n",
       "      <td>0</td>\n",
       "      <td>0</td>\n",
       "      <td>0</td>\n",
       "      <td>0</td>\n",
       "      <td>0</td>\n",
       "      <td>0</td>\n",
       "      <td>0</td>\n",
       "      <td>...</td>\n",
       "      <td>0</td>\n",
       "      <td>0</td>\n",
       "      <td>0</td>\n",
       "      <td>0</td>\n",
       "      <td>0</td>\n",
       "      <td>0</td>\n",
       "      <td>0</td>\n",
       "      <td>0</td>\n",
       "      <td>0</td>\n",
       "      <td>0</td>\n",
       "    </tr>\n",
       "    <tr>\n",
       "      <th>5444</th>\n",
       "      <td>6</td>\n",
       "      <td>0</td>\n",
       "      <td>0</td>\n",
       "      <td>0</td>\n",
       "      <td>0</td>\n",
       "      <td>0</td>\n",
       "      <td>0</td>\n",
       "      <td>0</td>\n",
       "      <td>0</td>\n",
       "      <td>0</td>\n",
       "      <td>...</td>\n",
       "      <td>0</td>\n",
       "      <td>0</td>\n",
       "      <td>0</td>\n",
       "      <td>0</td>\n",
       "      <td>0</td>\n",
       "      <td>0</td>\n",
       "      <td>0</td>\n",
       "      <td>0</td>\n",
       "      <td>0</td>\n",
       "      <td>0</td>\n",
       "    </tr>\n",
       "  </tbody>\n",
       "</table>\n",
       "<p>5 rows × 785 columns</p>\n",
       "</div>"
      ],
      "text/plain": [
       "       label  pixel0  pixel1  pixel2  pixel3  pixel4  pixel5  pixel6  pixel7  \\\n",
       "34950      5       0       0       0       0       0       0       0       0   \n",
       "41451      5       0       0       0       0       0       0       0       0   \n",
       "35924      3       0       0       0       0       0       0       0       0   \n",
       "25119      6       0       0       0       0       0       0       0       0   \n",
       "5444       6       0       0       0       0       0       0       0       0   \n",
       "\n",
       "       pixel8  ...  pixel774  pixel775  pixel776  pixel777  pixel778  \\\n",
       "34950       0  ...         0         0         0         0         0   \n",
       "41451       0  ...         0         0         0         0         0   \n",
       "35924       0  ...         0         0         0         0         0   \n",
       "25119       0  ...         0         0         0         0         0   \n",
       "5444        0  ...         0         0         0         0         0   \n",
       "\n",
       "       pixel779  pixel780  pixel781  pixel782  pixel783  \n",
       "34950         0         0         0         0         0  \n",
       "41451         0         0         0         0         0  \n",
       "35924         0         0         0         0         0  \n",
       "25119         0         0         0         0         0  \n",
       "5444          0         0         0         0         0  \n",
       "\n",
       "[5 rows x 785 columns]"
      ]
     },
     "execution_count": 8,
     "metadata": {},
     "output_type": "execute_result"
    }
   ],
   "source": [
    "train_data.head()"
   ]
  },
  {
   "cell_type": "code",
   "execution_count": 9,
   "metadata": {},
   "outputs": [
    {
     "data": {
      "text/html": [
       "<div>\n",
       "<style scoped>\n",
       "    .dataframe tbody tr th:only-of-type {\n",
       "        vertical-align: middle;\n",
       "    }\n",
       "\n",
       "    .dataframe tbody tr th {\n",
       "        vertical-align: top;\n",
       "    }\n",
       "\n",
       "    .dataframe thead th {\n",
       "        text-align: right;\n",
       "    }\n",
       "</style>\n",
       "<table border=\"1\" class=\"dataframe\">\n",
       "  <thead>\n",
       "    <tr style=\"text-align: right;\">\n",
       "      <th></th>\n",
       "      <th>label</th>\n",
       "      <th>pixel0</th>\n",
       "      <th>pixel1</th>\n",
       "      <th>pixel2</th>\n",
       "      <th>pixel3</th>\n",
       "      <th>pixel4</th>\n",
       "      <th>pixel5</th>\n",
       "      <th>pixel6</th>\n",
       "      <th>pixel7</th>\n",
       "      <th>pixel8</th>\n",
       "      <th>...</th>\n",
       "      <th>pixel774</th>\n",
       "      <th>pixel775</th>\n",
       "      <th>pixel776</th>\n",
       "      <th>pixel777</th>\n",
       "      <th>pixel778</th>\n",
       "      <th>pixel779</th>\n",
       "      <th>pixel780</th>\n",
       "      <th>pixel781</th>\n",
       "      <th>pixel782</th>\n",
       "      <th>pixel783</th>\n",
       "    </tr>\n",
       "  </thead>\n",
       "  <tbody>\n",
       "    <tr>\n",
       "      <th>26062</th>\n",
       "      <td>4</td>\n",
       "      <td>0</td>\n",
       "      <td>0</td>\n",
       "      <td>0</td>\n",
       "      <td>0</td>\n",
       "      <td>0</td>\n",
       "      <td>0</td>\n",
       "      <td>0</td>\n",
       "      <td>0</td>\n",
       "      <td>0</td>\n",
       "      <td>...</td>\n",
       "      <td>0</td>\n",
       "      <td>0</td>\n",
       "      <td>0</td>\n",
       "      <td>0</td>\n",
       "      <td>0</td>\n",
       "      <td>0</td>\n",
       "      <td>0</td>\n",
       "      <td>0</td>\n",
       "      <td>0</td>\n",
       "      <td>0</td>\n",
       "    </tr>\n",
       "    <tr>\n",
       "      <th>22093</th>\n",
       "      <td>3</td>\n",
       "      <td>0</td>\n",
       "      <td>0</td>\n",
       "      <td>0</td>\n",
       "      <td>0</td>\n",
       "      <td>0</td>\n",
       "      <td>0</td>\n",
       "      <td>0</td>\n",
       "      <td>0</td>\n",
       "      <td>0</td>\n",
       "      <td>...</td>\n",
       "      <td>0</td>\n",
       "      <td>0</td>\n",
       "      <td>0</td>\n",
       "      <td>0</td>\n",
       "      <td>0</td>\n",
       "      <td>0</td>\n",
       "      <td>0</td>\n",
       "      <td>0</td>\n",
       "      <td>0</td>\n",
       "      <td>0</td>\n",
       "    </tr>\n",
       "    <tr>\n",
       "      <th>34818</th>\n",
       "      <td>5</td>\n",
       "      <td>0</td>\n",
       "      <td>0</td>\n",
       "      <td>0</td>\n",
       "      <td>0</td>\n",
       "      <td>0</td>\n",
       "      <td>0</td>\n",
       "      <td>0</td>\n",
       "      <td>0</td>\n",
       "      <td>0</td>\n",
       "      <td>...</td>\n",
       "      <td>0</td>\n",
       "      <td>0</td>\n",
       "      <td>0</td>\n",
       "      <td>0</td>\n",
       "      <td>0</td>\n",
       "      <td>0</td>\n",
       "      <td>0</td>\n",
       "      <td>0</td>\n",
       "      <td>0</td>\n",
       "      <td>0</td>\n",
       "    </tr>\n",
       "    <tr>\n",
       "      <th>38536</th>\n",
       "      <td>5</td>\n",
       "      <td>0</td>\n",
       "      <td>0</td>\n",
       "      <td>0</td>\n",
       "      <td>0</td>\n",
       "      <td>0</td>\n",
       "      <td>0</td>\n",
       "      <td>0</td>\n",
       "      <td>0</td>\n",
       "      <td>0</td>\n",
       "      <td>...</td>\n",
       "      <td>0</td>\n",
       "      <td>0</td>\n",
       "      <td>0</td>\n",
       "      <td>0</td>\n",
       "      <td>0</td>\n",
       "      <td>0</td>\n",
       "      <td>0</td>\n",
       "      <td>0</td>\n",
       "      <td>0</td>\n",
       "      <td>0</td>\n",
       "    </tr>\n",
       "    <tr>\n",
       "      <th>15492</th>\n",
       "      <td>3</td>\n",
       "      <td>0</td>\n",
       "      <td>0</td>\n",
       "      <td>0</td>\n",
       "      <td>0</td>\n",
       "      <td>0</td>\n",
       "      <td>0</td>\n",
       "      <td>0</td>\n",
       "      <td>0</td>\n",
       "      <td>0</td>\n",
       "      <td>...</td>\n",
       "      <td>0</td>\n",
       "      <td>0</td>\n",
       "      <td>0</td>\n",
       "      <td>0</td>\n",
       "      <td>0</td>\n",
       "      <td>0</td>\n",
       "      <td>0</td>\n",
       "      <td>0</td>\n",
       "      <td>0</td>\n",
       "      <td>0</td>\n",
       "    </tr>\n",
       "  </tbody>\n",
       "</table>\n",
       "<p>5 rows × 785 columns</p>\n",
       "</div>"
      ],
      "text/plain": [
       "       label  pixel0  pixel1  pixel2  pixel3  pixel4  pixel5  pixel6  pixel7  \\\n",
       "26062      4       0       0       0       0       0       0       0       0   \n",
       "22093      3       0       0       0       0       0       0       0       0   \n",
       "34818      5       0       0       0       0       0       0       0       0   \n",
       "38536      5       0       0       0       0       0       0       0       0   \n",
       "15492      3       0       0       0       0       0       0       0       0   \n",
       "\n",
       "       pixel8  ...  pixel774  pixel775  pixel776  pixel777  pixel778  \\\n",
       "26062       0  ...         0         0         0         0         0   \n",
       "22093       0  ...         0         0         0         0         0   \n",
       "34818       0  ...         0         0         0         0         0   \n",
       "38536       0  ...         0         0         0         0         0   \n",
       "15492       0  ...         0         0         0         0         0   \n",
       "\n",
       "       pixel779  pixel780  pixel781  pixel782  pixel783  \n",
       "26062         0         0         0         0         0  \n",
       "22093         0         0         0         0         0  \n",
       "34818         0         0         0         0         0  \n",
       "38536         0         0         0         0         0  \n",
       "15492         0         0         0         0         0  \n",
       "\n",
       "[5 rows x 785 columns]"
      ]
     },
     "execution_count": 9,
     "metadata": {},
     "output_type": "execute_result"
    }
   ],
   "source": [
    "test_data.head()\n",
    "#test_data doesnt have a label column... why is that?"
   ]
  },
  {
   "cell_type": "code",
   "execution_count": 10,
   "metadata": {},
   "outputs": [],
   "source": [
    "# parameters for SVM model\n",
    "x_train = train_data.drop('label', axis=1)\n",
    "y_train = train_data['label']\n",
    "#drop the label column from the test data if exists\n",
    "x_test = test_data.drop('label', axis=1)\n",
    "y_test = test_data['label']"
   ]
  },
  {
   "cell_type": "code",
   "execution_count": 11,
   "metadata": {},
   "outputs": [],
   "source": [
    "model_svc = SVC()"
   ]
  },
  {
   "cell_type": "code",
   "execution_count": 12,
   "metadata": {},
   "outputs": [
    {
     "data": {
      "text/plain": [
       "0.9829931972789115"
      ]
     },
     "execution_count": 12,
     "metadata": {},
     "output_type": "execute_result"
    }
   ],
   "source": [
    "#fit the model\n",
    "model_svc.fit(x_train, y_train)\n",
    "#score the model\n",
    "model_svc.score(x_train, y_train)"
   ]
  },
  {
   "cell_type": "code",
   "execution_count": 13,
   "metadata": {},
   "outputs": [
    {
     "name": "stdout",
     "output_type": "stream",
     "text": [
      "0.8809523809523809\n",
      "              precision    recall  f1-score   support\n",
      "\n",
      "           0       0.91      0.83      0.87        12\n",
      "           1       1.00      0.90      0.95        10\n",
      "           2       0.73      0.92      0.81        12\n",
      "           3       0.87      0.93      0.90        14\n",
      "           4       0.84      0.80      0.82        20\n",
      "           5       0.94      0.79      0.86        19\n",
      "           6       0.90      0.90      0.90        10\n",
      "           7       1.00      0.91      0.95        11\n",
      "           8       1.00      1.00      1.00        11\n",
      "           9       0.70      1.00      0.82         7\n",
      "\n",
      "    accuracy                           0.88       126\n",
      "   macro avg       0.89      0.90      0.89       126\n",
      "weighted avg       0.89      0.88      0.88       126\n",
      "\n"
     ]
    }
   ],
   "source": [
    "# predict the test data\n",
    "y_pred = model_svc.predict(x_test)\n",
    "\n",
    "#accuracy score\n",
    "print(accuracy_score(y_test, y_pred))\n",
    "\n",
    "#classification report\n",
    "print(classification_report(y_test, y_pred))"
   ]
  },
  {
   "cell_type": "markdown",
   "metadata": {},
   "source": [
    "## Seems like the model with default parameters performed best. With an accuracy of 98%"
   ]
  },
  {
   "cell_type": "code",
   "execution_count": 14,
   "metadata": {},
   "outputs": [
    {
     "data": {
      "text/plain": [
       "[<matplotlib.lines.Line2D at 0x7f81edacd6d0>]"
      ]
     },
     "execution_count": 14,
     "metadata": {},
     "output_type": "execute_result"
    },
    {
     "data": {
      "image/png": "[encoded data removed]",
      "text/plain": [
       "<Figure size 640x480 with 1 Axes>"
      ]
     },
     "metadata": {},
     "output_type": "display_data"
    }
   ],
   "source": [
    "# for loop to create different svm models with different parameters store both the score and the model\n",
    "training_acc = []\n",
    "test_acc = []\n",
    "maxRange = 10\n",
    "for i in range(1, maxRange):\n",
    "    model_svc = SVC(C=i)\n",
    "    model_svc.fit(x_train, y_train)\n",
    "    training_acc.append(model_svc.score(x_train, y_train))\n",
    "    test_acc.append(model_svc.score(x_test, y_test))\n",
    "    #if model_svc.score(x_test, y_test) = 1: stop the loop, since no test, use train for now\n",
    "    # if model_svc.score(x_train, y_train) == 1:\n",
    "    #     #break after next iteration\n",
    "    #     break\n",
    "    #print(model_svc.score(x_train, y_train))\n",
    "\n",
    "plt.plot(range(1, len(training_acc)+1), training_acc, color=\"blue\", label=\"training accuracy\")\n",
    "plt.plot(range(1, len(test_acc)+1), test_acc,  color=\"red\", label=\"test accuracy\")"
   ]
  },
  {
   "cell_type": "code",
   "execution_count": 15,
   "metadata": {},
   "outputs": [],
   "source": [
    "# for loop to create different svm models with different gamma, C, and kernel parameters store both the score and the model\n",
    "# training_acc = []\n",
    "# test_acc = []\n",
    "maxRange = 1000\n",
    "\n",
    "#create a dictionary to store the parameters and the score\n",
    "param_score = []\n",
    "\n",
    "ker = ['linear', 'poly', 'rbf', 'sigmoid']\n",
    "\n",
    "#for every kernel, run 5 random C and gamma values\n",
    "for i in range(1, 10):\n",
    "    #randomly select gamma, C, and kernel\n",
    "    #random float\n",
    "    gamma = np.random.uniform(1, maxRange)\n",
    "    C = np.random.uniform(1, maxRange)\n",
    "    for kernel in ker:\n",
    "        model_svc = SVC(gamma=gamma, C=C, kernel=kernel)\n",
    "\n",
    "        #fit the model\n",
    "        model_svc.fit(x_train, y_train)\n",
    "\n",
    "        #save the parameters and the score\n",
    "        param_score.append({'gamma': gamma, 'C': C, 'kernel': kernel, 'score': model_svc.score(x_test, y_test)})\n",
    "        #print(model_svc.score(x_train, y_train))"
   ]
  },
  {
   "cell_type": "code",
   "execution_count": 16,
   "metadata": {},
   "outputs": [
    {
     "data": {
      "text/html": [
       "<div>\n",
       "<style scoped>\n",
       "    .dataframe tbody tr th:only-of-type {\n",
       "        vertical-align: middle;\n",
       "    }\n",
       "\n",
       "    .dataframe tbody tr th {\n",
       "        vertical-align: top;\n",
       "    }\n",
       "\n",
       "    .dataframe thead th {\n",
       "        text-align: right;\n",
       "    }\n",
       "</style>\n",
       "<table border=\"1\" class=\"dataframe\">\n",
       "  <thead>\n",
       "    <tr style=\"text-align: right;\">\n",
       "      <th></th>\n",
       "      <th>gamma</th>\n",
       "      <th>C</th>\n",
       "      <th>kernel</th>\n",
       "      <th>score</th>\n",
       "    </tr>\n",
       "  </thead>\n",
       "  <tbody>\n",
       "    <tr>\n",
       "      <th>0</th>\n",
       "      <td>737.248404</td>\n",
       "      <td>476.519194</td>\n",
       "      <td>linear</td>\n",
       "      <td>0.873016</td>\n",
       "    </tr>\n",
       "    <tr>\n",
       "      <th>1</th>\n",
       "      <td>737.248404</td>\n",
       "      <td>476.519194</td>\n",
       "      <td>poly</td>\n",
       "      <td>0.857143</td>\n",
       "    </tr>\n",
       "    <tr>\n",
       "      <th>2</th>\n",
       "      <td>737.248404</td>\n",
       "      <td>476.519194</td>\n",
       "      <td>rbf</td>\n",
       "      <td>0.095238</td>\n",
       "    </tr>\n",
       "    <tr>\n",
       "      <th>3</th>\n",
       "      <td>737.248404</td>\n",
       "      <td>476.519194</td>\n",
       "      <td>sigmoid</td>\n",
       "      <td>0.095238</td>\n",
       "    </tr>\n",
       "    <tr>\n",
       "      <th>4</th>\n",
       "      <td>136.663123</td>\n",
       "      <td>342.283378</td>\n",
       "      <td>linear</td>\n",
       "      <td>0.873016</td>\n",
       "    </tr>\n",
       "    <tr>\n",
       "      <th>5</th>\n",
       "      <td>136.663123</td>\n",
       "      <td>342.283378</td>\n",
       "      <td>poly</td>\n",
       "      <td>0.857143</td>\n",
       "    </tr>\n",
       "    <tr>\n",
       "      <th>6</th>\n",
       "      <td>136.663123</td>\n",
       "      <td>342.283378</td>\n",
       "      <td>rbf</td>\n",
       "      <td>0.095238</td>\n",
       "    </tr>\n",
       "    <tr>\n",
       "      <th>7</th>\n",
       "      <td>136.663123</td>\n",
       "      <td>342.283378</td>\n",
       "      <td>sigmoid</td>\n",
       "      <td>0.095238</td>\n",
       "    </tr>\n",
       "    <tr>\n",
       "      <th>8</th>\n",
       "      <td>190.514161</td>\n",
       "      <td>846.903426</td>\n",
       "      <td>linear</td>\n",
       "      <td>0.873016</td>\n",
       "    </tr>\n",
       "    <tr>\n",
       "      <th>9</th>\n",
       "      <td>190.514161</td>\n",
       "      <td>846.903426</td>\n",
       "      <td>poly</td>\n",
       "      <td>0.857143</td>\n",
       "    </tr>\n",
       "    <tr>\n",
       "      <th>10</th>\n",
       "      <td>190.514161</td>\n",
       "      <td>846.903426</td>\n",
       "      <td>rbf</td>\n",
       "      <td>0.095238</td>\n",
       "    </tr>\n",
       "    <tr>\n",
       "      <th>11</th>\n",
       "      <td>190.514161</td>\n",
       "      <td>846.903426</td>\n",
       "      <td>sigmoid</td>\n",
       "      <td>0.095238</td>\n",
       "    </tr>\n",
       "    <tr>\n",
       "      <th>12</th>\n",
       "      <td>292.825835</td>\n",
       "      <td>194.426131</td>\n",
       "      <td>linear</td>\n",
       "      <td>0.873016</td>\n",
       "    </tr>\n",
       "    <tr>\n",
       "      <th>13</th>\n",
       "      <td>292.825835</td>\n",
       "      <td>194.426131</td>\n",
       "      <td>poly</td>\n",
       "      <td>0.857143</td>\n",
       "    </tr>\n",
       "    <tr>\n",
       "      <th>14</th>\n",
       "      <td>292.825835</td>\n",
       "      <td>194.426131</td>\n",
       "      <td>rbf</td>\n",
       "      <td>0.095238</td>\n",
       "    </tr>\n",
       "    <tr>\n",
       "      <th>15</th>\n",
       "      <td>292.825835</td>\n",
       "      <td>194.426131</td>\n",
       "      <td>sigmoid</td>\n",
       "      <td>0.095238</td>\n",
       "    </tr>\n",
       "    <tr>\n",
       "      <th>16</th>\n",
       "      <td>367.326195</td>\n",
       "      <td>131.117903</td>\n",
       "      <td>linear</td>\n",
       "      <td>0.873016</td>\n",
       "    </tr>\n",
       "    <tr>\n",
       "      <th>17</th>\n",
       "      <td>367.326195</td>\n",
       "      <td>131.117903</td>\n",
       "      <td>poly</td>\n",
       "      <td>0.857143</td>\n",
       "    </tr>\n",
       "    <tr>\n",
       "      <th>18</th>\n",
       "      <td>367.326195</td>\n",
       "      <td>131.117903</td>\n",
       "      <td>rbf</td>\n",
       "      <td>0.095238</td>\n",
       "    </tr>\n",
       "    <tr>\n",
       "      <th>19</th>\n",
       "      <td>367.326195</td>\n",
       "      <td>131.117903</td>\n",
       "      <td>sigmoid</td>\n",
       "      <td>0.095238</td>\n",
       "    </tr>\n",
       "    <tr>\n",
       "      <th>20</th>\n",
       "      <td>457.788718</td>\n",
       "      <td>565.108553</td>\n",
       "      <td>linear</td>\n",
       "      <td>0.873016</td>\n",
       "    </tr>\n",
       "    <tr>\n",
       "      <th>21</th>\n",
       "      <td>457.788718</td>\n",
       "      <td>565.108553</td>\n",
       "      <td>poly</td>\n",
       "      <td>0.857143</td>\n",
       "    </tr>\n",
       "    <tr>\n",
       "      <th>22</th>\n",
       "      <td>457.788718</td>\n",
       "      <td>565.108553</td>\n",
       "      <td>rbf</td>\n",
       "      <td>0.095238</td>\n",
       "    </tr>\n",
       "    <tr>\n",
       "      <th>23</th>\n",
       "      <td>457.788718</td>\n",
       "      <td>565.108553</td>\n",
       "      <td>sigmoid</td>\n",
       "      <td>0.095238</td>\n",
       "    </tr>\n",
       "    <tr>\n",
       "      <th>24</th>\n",
       "      <td>134.547433</td>\n",
       "      <td>104.537771</td>\n",
       "      <td>linear</td>\n",
       "      <td>0.873016</td>\n",
       "    </tr>\n",
       "    <tr>\n",
       "      <th>25</th>\n",
       "      <td>134.547433</td>\n",
       "      <td>104.537771</td>\n",
       "      <td>poly</td>\n",
       "      <td>0.857143</td>\n",
       "    </tr>\n",
       "    <tr>\n",
       "      <th>26</th>\n",
       "      <td>134.547433</td>\n",
       "      <td>104.537771</td>\n",
       "      <td>rbf</td>\n",
       "      <td>0.095238</td>\n",
       "    </tr>\n",
       "    <tr>\n",
       "      <th>27</th>\n",
       "      <td>134.547433</td>\n",
       "      <td>104.537771</td>\n",
       "      <td>sigmoid</td>\n",
       "      <td>0.095238</td>\n",
       "    </tr>\n",
       "    <tr>\n",
       "      <th>28</th>\n",
       "      <td>455.695449</td>\n",
       "      <td>934.077795</td>\n",
       "      <td>linear</td>\n",
       "      <td>0.873016</td>\n",
       "    </tr>\n",
       "    <tr>\n",
       "      <th>29</th>\n",
       "      <td>455.695449</td>\n",
       "      <td>934.077795</td>\n",
       "      <td>poly</td>\n",
       "      <td>0.857143</td>\n",
       "    </tr>\n",
       "    <tr>\n",
       "      <th>30</th>\n",
       "      <td>455.695449</td>\n",
       "      <td>934.077795</td>\n",
       "      <td>rbf</td>\n",
       "      <td>0.095238</td>\n",
       "    </tr>\n",
       "    <tr>\n",
       "      <th>31</th>\n",
       "      <td>455.695449</td>\n",
       "      <td>934.077795</td>\n",
       "      <td>sigmoid</td>\n",
       "      <td>0.095238</td>\n",
       "    </tr>\n",
       "    <tr>\n",
       "      <th>32</th>\n",
       "      <td>483.912093</td>\n",
       "      <td>309.566250</td>\n",
       "      <td>linear</td>\n",
       "      <td>0.873016</td>\n",
       "    </tr>\n",
       "    <tr>\n",
       "      <th>33</th>\n",
       "      <td>483.912093</td>\n",
       "      <td>309.566250</td>\n",
       "      <td>poly</td>\n",
       "      <td>0.857143</td>\n",
       "    </tr>\n",
       "    <tr>\n",
       "      <th>34</th>\n",
       "      <td>483.912093</td>\n",
       "      <td>309.566250</td>\n",
       "      <td>rbf</td>\n",
       "      <td>0.095238</td>\n",
       "    </tr>\n",
       "    <tr>\n",
       "      <th>35</th>\n",
       "      <td>483.912093</td>\n",
       "      <td>309.566250</td>\n",
       "      <td>sigmoid</td>\n",
       "      <td>0.095238</td>\n",
       "    </tr>\n",
       "  </tbody>\n",
       "</table>\n",
       "</div>"
      ],
      "text/plain": [
       "         gamma           C   kernel     score\n",
       "0   737.248404  476.519194   linear  0.873016\n",
       "1   737.248404  476.519194     poly  0.857143\n",
       "2   737.248404  476.519194      rbf  0.095238\n",
       "3   737.248404  476.519194  sigmoid  0.095238\n",
       "4   136.663123  342.283378   linear  0.873016\n",
       "5   136.663123  342.283378     poly  0.857143\n",
       "6   136.663123  342.283378      rbf  0.095238\n",
       "7   136.663123  342.283378  sigmoid  0.095238\n",
       "8   190.514161  846.903426   linear  0.873016\n",
       "9   190.514161  846.903426     poly  0.857143\n",
       "10  190.514161  846.903426      rbf  0.095238\n",
       "11  190.514161  846.903426  sigmoid  0.095238\n",
       "12  292.825835  194.426131   linear  0.873016\n",
       "13  292.825835  194.426131     poly  0.857143\n",
       "14  292.825835  194.426131      rbf  0.095238\n",
       "15  292.825835  194.426131  sigmoid  0.095238\n",
       "16  367.326195  131.117903   linear  0.873016\n",
       "17  367.326195  131.117903     poly  0.857143\n",
       "18  367.326195  131.117903      rbf  0.095238\n",
       "19  367.326195  131.117903  sigmoid  0.095238\n",
       "20  457.788718  565.108553   linear  0.873016\n",
       "21  457.788718  565.108553     poly  0.857143\n",
       "22  457.788718  565.108553      rbf  0.095238\n",
       "23  457.788718  565.108553  sigmoid  0.095238\n",
       "24  134.547433  104.537771   linear  0.873016\n",
       "25  134.547433  104.537771     poly  0.857143\n",
       "26  134.547433  104.537771      rbf  0.095238\n",
       "27  134.547433  104.537771  sigmoid  0.095238\n",
       "28  455.695449  934.077795   linear  0.873016\n",
       "29  455.695449  934.077795     poly  0.857143\n",
       "30  455.695449  934.077795      rbf  0.095238\n",
       "31  455.695449  934.077795  sigmoid  0.095238\n",
       "32  483.912093  309.566250   linear  0.873016\n",
       "33  483.912093  309.566250     poly  0.857143\n",
       "34  483.912093  309.566250      rbf  0.095238\n",
       "35  483.912093  309.566250  sigmoid  0.095238"
      ]
     },
     "execution_count": 16,
     "metadata": {},
     "output_type": "execute_result"
    }
   ],
   "source": [
    "#convert param_score to a dataframe\n",
    "param_score = pd.DataFrame(param_score)\n",
    "param_score"
   ]
  },
  {
   "cell_type": "code",
   "execution_count": 17,
   "metadata": {},
   "outputs": [
    {
     "data": {
      "image/png": "[encoded data removed]",
      "text/plain": [
       "<Figure size 640x480 with 1 Axes>"
      ]
     },
     "metadata": {},
     "output_type": "display_data"
    }
   ],
   "source": [
    "temp = param_score[param_score.kernel == 'linear']\n",
    "temp.reset_index(inplace=True)\n",
    "sns.lineplot(x=temp.index, y='score', data=temp)\n",
    "\n",
    "#for loop to sns plots to compare the different kernels\n",
    "for kernel in ker:\n",
    "    temp = param_score[param_score.kernel == kernel]\n",
    "    temp.reset_index(inplace=True)\n",
    "    sns.lineplot(x=temp.index, y='score', data=temp, label=kernel)"
   ]
  },
  {
   "cell_type": "code",
   "execution_count": 18,
   "metadata": {},
   "outputs": [],
   "source": [
    "# #figure size\n",
    "# plt.figure(figsize=(10, 6))\n",
    "# #plot the training accuracy from 1 to maxRange\n",
    "# plt.plot(range(1, len(training_acc)+1), training_acc,color=\"blue\", label=\"training accuracy\")\n",
    "# plt.plot(range(1, len(training_acc)+1), test_acc, color = 'red', label=\"testing accuracy\")\n",
    "\n",
    "# #show data by kernel, \n",
    "# plt.legend()\n",
    "# plt.show()\n"
   ]
  },
  {
   "cell_type": "code",
   "execution_count": 19,
   "metadata": {},
   "outputs": [],
   "source": [
    "# print(param_score)"
   ]
  },
  {
   "cell_type": "code",
   "execution_count": 20,
   "metadata": {},
   "outputs": [
    {
     "data": {
      "text/plain": [
       "1.0"
      ]
     },
     "execution_count": 20,
     "metadata": {},
     "output_type": "execute_result"
    }
   ],
   "source": [
    "#using the best parameters from the loop above\n",
    "model_svcFinal = SVC(gamma='auto', C=3, kernel='poly')\n",
    "model_svcFinal.fit(x_train, y_train)\n",
    "model_svcFinal.score(x_train, y_train)"
   ]
  },
  {
   "cell_type": "code",
   "execution_count": 21,
   "metadata": {},
   "outputs": [
    {
     "data": {
      "text/plain": [
       "0.8571428571428571"
      ]
     },
     "execution_count": 21,
     "metadata": {},
     "output_type": "execute_result"
    }
   ],
   "source": [
    "#score test data\n",
    "model_svcFinal.score(x_test, y_test)"
   ]
  },
  {
   "cell_type": "code",
   "execution_count": 22,
   "metadata": {},
   "outputs": [
    {
     "name": "stdout",
     "output_type": "stream",
     "text": [
      "0.8571428571428571\n",
      "              precision    recall  f1-score   support\n",
      "\n",
      "           0       1.00      0.75      0.86        12\n",
      "           1       0.59      1.00      0.74        10\n",
      "           2       0.90      0.75      0.82        12\n",
      "           3       0.81      0.93      0.87        14\n",
      "           4       0.85      0.85      0.85        20\n",
      "           5       0.87      0.68      0.76        19\n",
      "           6       0.90      0.90      0.90        10\n",
      "           7       1.00      0.91      0.95        11\n",
      "           8       1.00      1.00      1.00        11\n",
      "           9       0.88      1.00      0.93         7\n",
      "\n",
      "    accuracy                           0.86       126\n",
      "   macro avg       0.88      0.88      0.87       126\n",
      "weighted avg       0.88      0.86      0.86       126\n",
      "\n"
     ]
    }
   ],
   "source": [
    "#predict test data\n",
    "y_pred = model_svcFinal.predict(x_test)\n",
    "\n",
    "#accuracy score\n",
    "\n",
    "print(accuracy_score(y_test, y_pred))\n",
    "\n",
    "#classification report\n",
    "print(classification_report(y_test, y_pred))"
   ]
  },
  {
   "cell_type": "code",
   "execution_count": 23,
   "metadata": {},
   "outputs": [
    {
     "data": {
      "text/plain": [
       "1.0"
      ]
     },
     "execution_count": 23,
     "metadata": {},
     "output_type": "execute_result"
    }
   ],
   "source": [
    "model_svcFinal.score(x_train, y_train)"
   ]
  },
  {
   "cell_type": "code",
   "execution_count": 24,
   "metadata": {},
   "outputs": [
    {
     "data": {
      "text/plain": [
       "0.8571428571428571"
      ]
     },
     "execution_count": 24,
     "metadata": {},
     "output_type": "execute_result"
    }
   ],
   "source": [
    "model_svcFinal.score(x_test, y_test)"
   ]
  },
  {
   "cell_type": "code",
   "execution_count": 25,
   "metadata": {},
   "outputs": [],
   "source": [
    "# pipeline and gridsearch\n",
    "# create a pipeline"
   ]
  },
  {
   "cell_type": "code",
   "execution_count": 26,
   "metadata": {},
   "outputs": [
    {
     "data": {
      "text/plain": [
       "{'svc__C': 922.3623077213499,\n",
       " 'svc__gamma': 738.7822639855148,\n",
       " 'svc__kernel': 'linear'}"
      ]
     },
     "execution_count": 26,
     "metadata": {},
     "output_type": "execute_result"
    }
   ],
   "source": [
    "#pipeline and gridsearch model \n",
    "model_svcFinal2 = make_pipeline(StandardScaler(), SVC(gamma='auto', C=3, kernel='poly', random_state=123))\n",
    "\n",
    "\n",
    "\n",
    "#parameters to test\n",
    "ker = ['linear', 'poly', 'rbf', 'sigmoid']\n",
    "gamma = np.random.uniform(1, maxRange, 5)\n",
    "C = np.random.uniform(1, maxRange, 5)\n",
    "\n",
    "#add parameters to a dictionary\n",
    "param_grid = {'svc__gamma': gamma, 'svc__C': C, 'svc__kernel': ker}\n",
    "\n",
    "#use gridsearch to find the best parameters\n",
    "grid = GridSearchCV(model_svcFinal2, param_grid, cv=5, return_train_score=True)\n",
    "grid.fit(x_train, y_train)\n",
    "\n",
    "#best parameters\n",
    "grid.best_params_\n",
    "\n",
    "# model_svcFinal.fit(x_train, y_train)"
   ]
  },
  {
   "cell_type": "code",
   "execution_count": 27,
   "metadata": {},
   "outputs": [
    {
     "data": {
      "text/plain": [
       "1.0"
      ]
     },
     "execution_count": 27,
     "metadata": {},
     "output_type": "execute_result"
    }
   ],
   "source": [
    "grid.score(x_train, y_train)"
   ]
  },
  {
   "cell_type": "code",
   "execution_count": 28,
   "metadata": {},
   "outputs": [
    {
     "data": {
      "text/plain": [
       "0.873015873015873"
      ]
     },
     "execution_count": 28,
     "metadata": {},
     "output_type": "execute_result"
    }
   ],
   "source": [
    "grid.score(x_test, y_test)"
   ]
  }
 ],
 "metadata": {
  "kernelspec": {
   "display_name": "Python 3.9.15 ('base')",
   "language": "python",
   "name": "python3"
  },
  "language_info": {
   "codemirror_mode": {
    "name": "ipython",
    "version": 3
   },
   "file_extension": ".py",
   "mimetype": "text/x-python",
   "name": "python",
   "nbconvert_exporter": "python",
   "pygments_lexer": "ipython3",
   "version": "3.9.15"
  },
  "orig_nbformat": 4,
  "vscode": {
   "interpreter": {
    "hash": "ee2d1839cad92f90f9f62217fd0d40058e152c1d1bad45469f220df045bf9106"
   }
  }
 },
 "nbformat": 4,
 "nbformat_minor": 2
}
